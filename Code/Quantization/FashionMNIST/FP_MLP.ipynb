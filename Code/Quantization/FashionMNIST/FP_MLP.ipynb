{
  "nbformat": 4,
  "nbformat_minor": 0,
  "metadata": {
    "colab": {
      "name": "FP_MLP.ipynb",
      "provenance": [],
      "collapsed_sections": []
    },
    "kernelspec": {
      "name": "python3",
      "display_name": "Python 3"
    },
    "accelerator": "GPU"
  },
  "cells": [
    {
      "cell_type": "code",
      "metadata": {
        "id": "kRiPw7WvXK2D",
        "colab_type": "code",
        "outputId": "c2b54924-9f5c-4513-e0af-dcb737c9f39b",
        "colab": {
          "base_uri": "https://localhost:8080/",
          "height": 257
        }
      },
      "source": [
        "from __future__ import print_function\n",
        "import keras\n",
        "from keras.datasets import fashion_mnist\n",
        "from keras.models import Sequential\n",
        "from keras.layers import Dense, Dropout, Flatten\n",
        "from keras.layers import Conv2D, MaxPooling2D\n",
        "from keras import backend as K\n",
        "import numpy as np\n",
        "import math\n",
        "import keras.backend as K\n",
        "from keras.datasets import fashion_mnist\n",
        "from keras.models import Sequential\n",
        "from keras.layers import Dense, Dropout, Activation, BatchNormalization, MaxPooling2D\n",
        "from keras.layers import Flatten\n",
        "from keras.optimizers import SGD, Adam, RMSprop\n",
        "from keras.callbacks import LearningRateScheduler\n",
        "from keras.utils import np_utils\n",
        "from keras.layers import InputSpec, Layer, Dense, Conv2D\n",
        "from keras import constraints\n",
        "from keras import initializers\n",
        "\n",
        "from keras import backend as K\n",
        "K.tensorflow_backend._get_available_gpus()"
      ],
      "execution_count": 1,
      "outputs": [
        {
          "output_type": "stream",
          "text": [
            "Using TensorFlow backend.\n"
          ],
          "name": "stderr"
        },
        {
          "output_type": "display_data",
          "data": {
            "text/html": [
              "<p style=\"color: red;\">\n",
              "The default version of TensorFlow in Colab will soon switch to TensorFlow 2.x.<br>\n",
              "We recommend you <a href=\"https://www.tensorflow.org/guide/migrate\" target=\"_blank\">upgrade</a> now \n",
              "or ensure your notebook will continue to use TensorFlow 1.x via the <code>%tensorflow_version 1.x</code> magic:\n",
              "<a href=\"https://colab.research.google.com/notebooks/tensorflow_version.ipynb\" target=\"_blank\">more info</a>.</p>\n"
            ],
            "text/plain": [
              "<IPython.core.display.HTML object>"
            ]
          },
          "metadata": {
            "tags": []
          }
        },
        {
          "output_type": "stream",
          "text": [
            "WARNING:tensorflow:From /usr/local/lib/python3.6/dist-packages/keras/backend/tensorflow_backend.py:190: The name tf.get_default_session is deprecated. Please use tf.compat.v1.get_default_session instead.\n",
            "\n",
            "WARNING:tensorflow:From /usr/local/lib/python3.6/dist-packages/keras/backend/tensorflow_backend.py:197: The name tf.ConfigProto is deprecated. Please use tf.compat.v1.ConfigProto instead.\n",
            "\n",
            "WARNING:tensorflow:From /usr/local/lib/python3.6/dist-packages/keras/backend/tensorflow_backend.py:203: The name tf.Session is deprecated. Please use tf.compat.v1.Session instead.\n",
            "\n",
            "WARNING:tensorflow:From /usr/local/lib/python3.6/dist-packages/keras/backend/tensorflow_backend.py:207: The name tf.global_variables is deprecated. Please use tf.compat.v1.global_variables instead.\n",
            "\n"
          ],
          "name": "stdout"
        },
        {
          "output_type": "execute_result",
          "data": {
            "text/plain": [
              "['/job:localhost/replica:0/task:0/device:GPU:0']"
            ]
          },
          "metadata": {
            "tags": []
          },
          "execution_count": 1
        }
      ]
    },
    {
      "cell_type": "code",
      "metadata": {
        "id": "bXsKQno9XVd2",
        "colab_type": "code",
        "colab": {}
      },
      "source": [
        "def inference_via_confidence(confidence_mtx1, confidence_mtx2, label_vec1, label_vec2):\n",
        "\n",
        "    #----------------First step: obtain confidence lists for both training dataset and test dataset--------------\n",
        "    confidence1 = []\n",
        "    confidence2 = []\n",
        "    acc1 = 0\n",
        "    acc2 = 0\n",
        "    for num in range(confidence_mtx1.shape[0]):\n",
        "        confidence1.append(confidence_mtx1[num,label_vec1[num]])\n",
        "        if np.argmax(confidence_mtx1[num,:]) == np.argmax(label_vec1[num]):\n",
        "            acc1 += 1\n",
        "\n",
        "    for num in range(confidence_mtx2.shape[0]):\n",
        "        confidence2.append(confidence_mtx2[num,label_vec2[num]])\n",
        "        if np.argmax(confidence_mtx2[num,:]) == np.argmax(label_vec2[num]):\n",
        "            acc2 += 1\n",
        "    confidence1 = np.array(confidence1)\n",
        "    confidence2 = np.array(confidence2)\n",
        "\n",
        "    print('model accuracy for training and test-', (acc1/confidence_mtx1.shape[0], acc2/confidence_mtx2.shape[0]) )\n",
        "\n",
        "\n",
        "    #sort_confidence = np.sort(confidence1)\n",
        "    sort_confidence = np.sort(np.concatenate((confidence1, confidence2)))\n",
        "    max_accuracy = 0.5\n",
        "    best_precision = 0.5\n",
        "    best_recall = 0.5\n",
        "    for num in range(len(sort_confidence)):\n",
        "        delta = sort_confidence[num]\n",
        "        ratio1 = np.sum(confidence1>=delta)/confidence_mtx1.shape[0]\n",
        "        ratio2 = np.sum(confidence2>=delta)/confidence_mtx2.shape[0]\n",
        "        accuracy_now = 0.5*(ratio1+1-ratio2)\n",
        "        if accuracy_now > max_accuracy:\n",
        "            max_accuracy = accuracy_now\n",
        "            best_precision = ratio1/(ratio1+ratio2)\n",
        "            best_recall = ratio1\n",
        "    print('maximum inference accuracy is:', max_accuracy)\n",
        "    print('precision is:', best_precision)\n",
        "    print('recall is:', best_recall)\n",
        "    return max_accuracy\n"
      ],
      "execution_count": 0,
      "outputs": []
    },
    {
      "cell_type": "code",
      "metadata": {
        "id": "Xe4bTlEPXXUI",
        "colab_type": "code",
        "colab": {}
      },
      "source": [
        "batch_size = 128\n",
        "num_classes = 10\n",
        "epochs = 75"
      ],
      "execution_count": 0,
      "outputs": []
    },
    {
      "cell_type": "code",
      "metadata": {
        "id": "JwWgFCItXZOe",
        "colab_type": "code",
        "outputId": "97313203-8c7b-4cfb-9fd5-9236da1609b1",
        "colab": {
          "base_uri": "https://localhost:8080/",
          "height": 52
        }
      },
      "source": [
        "# input image dimensions\n",
        "img_rows, img_cols = 28, 28\n",
        "\n",
        "# the data, split between train and test sets\n",
        "(x_train, y_train), (x_test, y_test) = fashion_mnist.load_data()\n",
        "\n",
        "x_train = x_train.reshape(60000, 784)\n",
        "x_test = x_test.reshape(10000, 784)\n",
        "x_train = x_train.astype('float32')\n",
        "x_test = x_test.astype('float32')\n",
        "x_train /= 255\n",
        "x_test /= 255\n",
        "print(x_train.shape[0], 'train samples')\n",
        "print(x_test.shape[0], 'test samples')\n",
        "\n",
        "\n",
        "# convert class vectors to binary class matrices\n",
        "y_train = keras.utils.to_categorical(y_train, num_classes)\n",
        "y_test = keras.utils.to_categorical(y_test, num_classes)\n"
      ],
      "execution_count": 4,
      "outputs": [
        {
          "output_type": "stream",
          "text": [
            "60000 train samples\n",
            "10000 test samples\n"
          ],
          "name": "stdout"
        }
      ]
    },
    {
      "cell_type": "code",
      "metadata": {
        "id": "qaMd61rzXbUz",
        "colab_type": "code",
        "outputId": "234a535f-ba14-4ce8-a376-bf3e3b9e52f5",
        "colab": {
          "base_uri": "https://localhost:8080/",
          "height": 489
        }
      },
      "source": [
        "model = Sequential()\n",
        "model.add(Dense(512, activation='relu', input_shape=(784,)))\n",
        "model.add(Dense(512, activation='relu'))\n",
        "model.add(Dense(512, activation='relu'))\n",
        "model.add(Dense(10, activation='softmax'))\n",
        "\n",
        "\n",
        "model.summary()\n",
        "\n",
        "model.compile(loss=keras.losses.categorical_crossentropy,optimizer=keras.optimizers.Adadelta(),metrics=['accuracy'])\n"
      ],
      "execution_count": 5,
      "outputs": [
        {
          "output_type": "stream",
          "text": [
            "WARNING:tensorflow:From /usr/local/lib/python3.6/dist-packages/keras/backend/tensorflow_backend.py:66: The name tf.get_default_graph is deprecated. Please use tf.compat.v1.get_default_graph instead.\n",
            "\n",
            "WARNING:tensorflow:From /usr/local/lib/python3.6/dist-packages/keras/backend/tensorflow_backend.py:541: The name tf.placeholder is deprecated. Please use tf.compat.v1.placeholder instead.\n",
            "\n",
            "WARNING:tensorflow:From /usr/local/lib/python3.6/dist-packages/keras/backend/tensorflow_backend.py:4432: The name tf.random_uniform is deprecated. Please use tf.random.uniform instead.\n",
            "\n",
            "Model: \"sequential_1\"\n",
            "_________________________________________________________________\n",
            "Layer (type)                 Output Shape              Param #   \n",
            "=================================================================\n",
            "dense_1 (Dense)              (None, 512)               401920    \n",
            "_________________________________________________________________\n",
            "dense_2 (Dense)              (None, 512)               262656    \n",
            "_________________________________________________________________\n",
            "dense_3 (Dense)              (None, 512)               262656    \n",
            "_________________________________________________________________\n",
            "dense_4 (Dense)              (None, 10)                5130      \n",
            "=================================================================\n",
            "Total params: 932,362\n",
            "Trainable params: 932,362\n",
            "Non-trainable params: 0\n",
            "_________________________________________________________________\n",
            "WARNING:tensorflow:From /usr/local/lib/python3.6/dist-packages/keras/optimizers.py:793: The name tf.train.Optimizer is deprecated. Please use tf.compat.v1.train.Optimizer instead.\n",
            "\n",
            "WARNING:tensorflow:From /usr/local/lib/python3.6/dist-packages/keras/backend/tensorflow_backend.py:3576: The name tf.log is deprecated. Please use tf.math.log instead.\n",
            "\n"
          ],
          "name": "stdout"
        }
      ]
    },
    {
      "cell_type": "code",
      "metadata": {
        "id": "pi2KZ3G-mz8Y",
        "colab_type": "code",
        "outputId": "dd73268b-64f4-4647-b969-10ff900d3da1",
        "colab": {
          "base_uri": "https://localhost:8080/",
          "height": 1000
        }
      },
      "source": [
        "model.fit(x_train, y_train,batch_size=batch_size,epochs=75,verbose=1,validation_data=(x_test, y_test))\n",
        "score = model.evaluate(x_test, y_test, verbose=0)\n",
        "print('Test loss:', score[0])\n",
        "print('Test accuracy:', score[1])"
      ],
      "execution_count": 6,
      "outputs": [
        {
          "output_type": "stream",
          "text": [
            "WARNING:tensorflow:From /usr/local/lib/python3.6/dist-packages/tensorflow_core/python/ops/math_grad.py:1424: where (from tensorflow.python.ops.array_ops) is deprecated and will be removed in a future version.\n",
            "Instructions for updating:\n",
            "Use tf.where in 2.0, which has the same broadcast rule as np.where\n",
            "WARNING:tensorflow:From /usr/local/lib/python3.6/dist-packages/keras/backend/tensorflow_backend.py:1033: The name tf.assign_add is deprecated. Please use tf.compat.v1.assign_add instead.\n",
            "\n",
            "WARNING:tensorflow:From /usr/local/lib/python3.6/dist-packages/keras/backend/tensorflow_backend.py:1020: The name tf.assign is deprecated. Please use tf.compat.v1.assign instead.\n",
            "\n",
            "Train on 60000 samples, validate on 10000 samples\n",
            "Epoch 1/75\n",
            "WARNING:tensorflow:From /usr/local/lib/python3.6/dist-packages/keras/backend/tensorflow_backend.py:216: The name tf.is_variable_initialized is deprecated. Please use tf.compat.v1.is_variable_initialized instead.\n",
            "\n",
            "WARNING:tensorflow:From /usr/local/lib/python3.6/dist-packages/keras/backend/tensorflow_backend.py:223: The name tf.variables_initializer is deprecated. Please use tf.compat.v1.variables_initializer instead.\n",
            "\n",
            "60000/60000 [==============================] - 10s 174us/step - loss: 0.5733 - acc: 0.7862 - val_loss: 0.4516 - val_acc: 0.8349\n",
            "Epoch 2/75\n",
            "60000/60000 [==============================] - 2s 36us/step - loss: 0.3890 - acc: 0.8550 - val_loss: 0.4809 - val_acc: 0.8215\n",
            "Epoch 3/75\n",
            "60000/60000 [==============================] - 2s 38us/step - loss: 0.3398 - acc: 0.8742 - val_loss: 0.3772 - val_acc: 0.8629\n",
            "Epoch 4/75\n",
            "60000/60000 [==============================] - 2s 37us/step - loss: 0.3119 - acc: 0.8822 - val_loss: 0.3642 - val_acc: 0.8694\n",
            "Epoch 5/75\n",
            "60000/60000 [==============================] - 2s 37us/step - loss: 0.2901 - acc: 0.8912 - val_loss: 0.3518 - val_acc: 0.8732\n",
            "Epoch 6/75\n",
            "60000/60000 [==============================] - 2s 36us/step - loss: 0.2726 - acc: 0.8956 - val_loss: 0.3377 - val_acc: 0.8747\n",
            "Epoch 7/75\n",
            "60000/60000 [==============================] - 2s 38us/step - loss: 0.2573 - acc: 0.9015 - val_loss: 0.3143 - val_acc: 0.8860\n",
            "Epoch 8/75\n",
            "60000/60000 [==============================] - 2s 36us/step - loss: 0.2420 - acc: 0.9089 - val_loss: 0.3541 - val_acc: 0.8762\n",
            "Epoch 9/75\n",
            "60000/60000 [==============================] - 2s 35us/step - loss: 0.2295 - acc: 0.9116 - val_loss: 0.3259 - val_acc: 0.8831\n",
            "Epoch 10/75\n",
            "60000/60000 [==============================] - 2s 36us/step - loss: 0.2206 - acc: 0.9159 - val_loss: 0.3211 - val_acc: 0.8879\n",
            "Epoch 11/75\n",
            "60000/60000 [==============================] - 2s 34us/step - loss: 0.2073 - acc: 0.9208 - val_loss: 0.3379 - val_acc: 0.8749\n",
            "Epoch 12/75\n",
            "60000/60000 [==============================] - 2s 35us/step - loss: 0.2002 - acc: 0.9235 - val_loss: 0.3345 - val_acc: 0.8890\n",
            "Epoch 13/75\n",
            "60000/60000 [==============================] - 2s 36us/step - loss: 0.1911 - acc: 0.9270 - val_loss: 0.3773 - val_acc: 0.8800\n",
            "Epoch 14/75\n",
            "60000/60000 [==============================] - 2s 37us/step - loss: 0.1822 - acc: 0.9300 - val_loss: 0.3285 - val_acc: 0.8946\n",
            "Epoch 15/75\n",
            "60000/60000 [==============================] - 2s 37us/step - loss: 0.1752 - acc: 0.9319 - val_loss: 0.3695 - val_acc: 0.8883\n",
            "Epoch 16/75\n",
            "60000/60000 [==============================] - 2s 37us/step - loss: 0.1658 - acc: 0.9362 - val_loss: 0.3740 - val_acc: 0.8925\n",
            "Epoch 17/75\n",
            "60000/60000 [==============================] - 2s 37us/step - loss: 0.1610 - acc: 0.9378 - val_loss: 0.3693 - val_acc: 0.8899\n",
            "Epoch 18/75\n",
            "60000/60000 [==============================] - 2s 35us/step - loss: 0.1525 - acc: 0.9405 - val_loss: 0.3730 - val_acc: 0.8908\n",
            "Epoch 19/75\n",
            "60000/60000 [==============================] - 2s 37us/step - loss: 0.1480 - acc: 0.9420 - val_loss: 0.3701 - val_acc: 0.8934\n",
            "Epoch 20/75\n",
            "60000/60000 [==============================] - 2s 35us/step - loss: 0.1418 - acc: 0.9442 - val_loss: 0.3962 - val_acc: 0.8946\n",
            "Epoch 21/75\n",
            "60000/60000 [==============================] - 2s 37us/step - loss: 0.1347 - acc: 0.9474 - val_loss: 0.4185 - val_acc: 0.8942\n",
            "Epoch 22/75\n",
            "60000/60000 [==============================] - 2s 34us/step - loss: 0.1294 - acc: 0.9486 - val_loss: 0.3843 - val_acc: 0.9006\n",
            "Epoch 23/75\n",
            "60000/60000 [==============================] - 2s 36us/step - loss: 0.1262 - acc: 0.9513 - val_loss: 0.4112 - val_acc: 0.8903\n",
            "Epoch 24/75\n",
            "60000/60000 [==============================] - 2s 35us/step - loss: 0.1194 - acc: 0.9530 - val_loss: 0.3969 - val_acc: 0.8967\n",
            "Epoch 25/75\n",
            "60000/60000 [==============================] - 2s 36us/step - loss: 0.1157 - acc: 0.9550 - val_loss: 0.4194 - val_acc: 0.8969\n",
            "Epoch 26/75\n",
            "60000/60000 [==============================] - 2s 37us/step - loss: 0.1106 - acc: 0.9564 - val_loss: 0.4236 - val_acc: 0.8942\n",
            "Epoch 27/75\n",
            "60000/60000 [==============================] - 2s 36us/step - loss: 0.1045 - acc: 0.9587 - val_loss: 0.4637 - val_acc: 0.8941\n",
            "Epoch 28/75\n",
            "60000/60000 [==============================] - 2s 35us/step - loss: 0.1013 - acc: 0.9607 - val_loss: 0.4255 - val_acc: 0.8952\n",
            "Epoch 29/75\n",
            "60000/60000 [==============================] - 2s 35us/step - loss: 0.0973 - acc: 0.9622 - val_loss: 0.4659 - val_acc: 0.8971\n",
            "Epoch 30/75\n",
            "60000/60000 [==============================] - 2s 36us/step - loss: 0.0950 - acc: 0.9627 - val_loss: 0.4998 - val_acc: 0.8959\n",
            "Epoch 31/75\n",
            "60000/60000 [==============================] - 2s 37us/step - loss: 0.0904 - acc: 0.9656 - val_loss: 0.4901 - val_acc: 0.8950\n",
            "Epoch 32/75\n",
            "60000/60000 [==============================] - 2s 36us/step - loss: 0.0881 - acc: 0.9658 - val_loss: 0.4791 - val_acc: 0.8910\n",
            "Epoch 33/75\n",
            "60000/60000 [==============================] - 2s 35us/step - loss: 0.0844 - acc: 0.9676 - val_loss: 0.5039 - val_acc: 0.8908\n",
            "Epoch 34/75\n",
            "60000/60000 [==============================] - 2s 36us/step - loss: 0.0796 - acc: 0.9693 - val_loss: 0.5393 - val_acc: 0.8950\n",
            "Epoch 35/75\n",
            "60000/60000 [==============================] - 2s 36us/step - loss: 0.0768 - acc: 0.9705 - val_loss: 0.4869 - val_acc: 0.9004\n",
            "Epoch 36/75\n",
            "60000/60000 [==============================] - 2s 36us/step - loss: 0.0760 - acc: 0.9707 - val_loss: 0.5331 - val_acc: 0.8929\n",
            "Epoch 37/75\n",
            "60000/60000 [==============================] - 2s 38us/step - loss: 0.0726 - acc: 0.9722 - val_loss: 0.5602 - val_acc: 0.8872\n",
            "Epoch 38/75\n",
            "60000/60000 [==============================] - 2s 37us/step - loss: 0.0682 - acc: 0.9743 - val_loss: 0.5308 - val_acc: 0.8986\n",
            "Epoch 39/75\n",
            "60000/60000 [==============================] - 2s 36us/step - loss: 0.0669 - acc: 0.9741 - val_loss: 0.5745 - val_acc: 0.8923\n",
            "Epoch 40/75\n",
            "60000/60000 [==============================] - 2s 38us/step - loss: 0.0657 - acc: 0.9754 - val_loss: 0.5798 - val_acc: 0.8948\n",
            "Epoch 41/75\n",
            "60000/60000 [==============================] - 2s 38us/step - loss: 0.0613 - acc: 0.9767 - val_loss: 0.5806 - val_acc: 0.8930\n",
            "Epoch 42/75\n",
            "60000/60000 [==============================] - 2s 37us/step - loss: 0.0600 - acc: 0.9763 - val_loss: 0.6545 - val_acc: 0.8958\n",
            "Epoch 43/75\n",
            "60000/60000 [==============================] - 2s 35us/step - loss: 0.0578 - acc: 0.9780 - val_loss: 0.5650 - val_acc: 0.8988\n",
            "Epoch 44/75\n",
            "60000/60000 [==============================] - 2s 36us/step - loss: 0.0572 - acc: 0.9788 - val_loss: 0.6367 - val_acc: 0.8944\n",
            "Epoch 45/75\n",
            "60000/60000 [==============================] - 2s 36us/step - loss: 0.0513 - acc: 0.9806 - val_loss: 0.6233 - val_acc: 0.8982\n",
            "Epoch 46/75\n",
            "60000/60000 [==============================] - 2s 36us/step - loss: 0.0519 - acc: 0.9798 - val_loss: 0.6790 - val_acc: 0.8945\n",
            "Epoch 47/75\n",
            "60000/60000 [==============================] - 2s 36us/step - loss: 0.0497 - acc: 0.9815 - val_loss: 0.6463 - val_acc: 0.8970\n",
            "Epoch 48/75\n",
            "60000/60000 [==============================] - 2s 35us/step - loss: 0.0492 - acc: 0.9807 - val_loss: 0.6266 - val_acc: 0.8974\n",
            "Epoch 49/75\n",
            "60000/60000 [==============================] - 2s 35us/step - loss: 0.0479 - acc: 0.9821 - val_loss: 0.6534 - val_acc: 0.8927\n",
            "Epoch 50/75\n",
            "60000/60000 [==============================] - 2s 37us/step - loss: 0.0456 - acc: 0.9829 - val_loss: 0.7102 - val_acc: 0.8956\n",
            "Epoch 51/75\n",
            "60000/60000 [==============================] - 2s 36us/step - loss: 0.0441 - acc: 0.9839 - val_loss: 0.6378 - val_acc: 0.8983\n",
            "Epoch 52/75\n",
            "60000/60000 [==============================] - 2s 35us/step - loss: 0.0407 - acc: 0.9844 - val_loss: 0.6667 - val_acc: 0.9002\n",
            "Epoch 53/75\n",
            "60000/60000 [==============================] - 2s 37us/step - loss: 0.0394 - acc: 0.9850 - val_loss: 0.7404 - val_acc: 0.8935\n",
            "Epoch 54/75\n",
            "60000/60000 [==============================] - 2s 37us/step - loss: 0.0399 - acc: 0.9855 - val_loss: 0.7000 - val_acc: 0.8901\n",
            "Epoch 55/75\n",
            "60000/60000 [==============================] - 2s 35us/step - loss: 0.0378 - acc: 0.9863 - val_loss: 0.6874 - val_acc: 0.8970\n",
            "Epoch 56/75\n",
            "60000/60000 [==============================] - 2s 37us/step - loss: 0.0320 - acc: 0.9880 - val_loss: 0.7498 - val_acc: 0.8948\n",
            "Epoch 57/75\n",
            "60000/60000 [==============================] - 2s 36us/step - loss: 0.0365 - acc: 0.9862 - val_loss: 0.7351 - val_acc: 0.8971\n",
            "Epoch 58/75\n",
            "60000/60000 [==============================] - 2s 37us/step - loss: 0.0334 - acc: 0.9876 - val_loss: 0.7014 - val_acc: 0.8977\n",
            "Epoch 59/75\n",
            "60000/60000 [==============================] - 2s 35us/step - loss: 0.0328 - acc: 0.9876 - val_loss: 0.6679 - val_acc: 0.8935\n",
            "Epoch 60/75\n",
            "60000/60000 [==============================] - 2s 36us/step - loss: 0.0309 - acc: 0.9892 - val_loss: 0.7516 - val_acc: 0.8926\n",
            "Epoch 61/75\n",
            "60000/60000 [==============================] - 2s 35us/step - loss: 0.0315 - acc: 0.9886 - val_loss: 0.7478 - val_acc: 0.8935\n",
            "Epoch 62/75\n",
            "60000/60000 [==============================] - 2s 37us/step - loss: 0.0287 - acc: 0.9894 - val_loss: 0.7327 - val_acc: 0.8975\n",
            "Epoch 63/75\n",
            "60000/60000 [==============================] - 2s 36us/step - loss: 0.0296 - acc: 0.9895 - val_loss: 0.7903 - val_acc: 0.8939\n",
            "Epoch 64/75\n",
            "60000/60000 [==============================] - 2s 35us/step - loss: 0.0271 - acc: 0.9899 - val_loss: 0.7372 - val_acc: 0.8949\n",
            "Epoch 65/75\n",
            "60000/60000 [==============================] - 2s 36us/step - loss: 0.0274 - acc: 0.9903 - val_loss: 0.7770 - val_acc: 0.8927\n",
            "Epoch 66/75\n",
            "60000/60000 [==============================] - 2s 36us/step - loss: 0.0271 - acc: 0.9906 - val_loss: 0.7939 - val_acc: 0.8949\n",
            "Epoch 67/75\n",
            "60000/60000 [==============================] - 2s 36us/step - loss: 0.0273 - acc: 0.9905 - val_loss: 0.7902 - val_acc: 0.8974\n",
            "Epoch 68/75\n",
            "60000/60000 [==============================] - 2s 36us/step - loss: 0.0270 - acc: 0.9908 - val_loss: 0.7406 - val_acc: 0.8956\n",
            "Epoch 69/75\n",
            "60000/60000 [==============================] - 2s 37us/step - loss: 0.0246 - acc: 0.9911 - val_loss: 0.7628 - val_acc: 0.8966\n",
            "Epoch 70/75\n",
            "60000/60000 [==============================] - 2s 37us/step - loss: 0.0265 - acc: 0.9909 - val_loss: 0.7750 - val_acc: 0.8982\n",
            "Epoch 71/75\n",
            "60000/60000 [==============================] - 2s 37us/step - loss: 0.0254 - acc: 0.9916 - val_loss: 0.7440 - val_acc: 0.8953\n",
            "Epoch 72/75\n",
            "60000/60000 [==============================] - 2s 36us/step - loss: 0.0229 - acc: 0.9922 - val_loss: 0.8050 - val_acc: 0.8984\n",
            "Epoch 73/75\n",
            "60000/60000 [==============================] - 2s 37us/step - loss: 0.0198 - acc: 0.9929 - val_loss: 0.8386 - val_acc: 0.8905\n",
            "Epoch 74/75\n",
            "60000/60000 [==============================] - 2s 37us/step - loss: 0.0236 - acc: 0.9920 - val_loss: 0.8703 - val_acc: 0.8968\n",
            "Epoch 75/75\n",
            "60000/60000 [==============================] - 2s 37us/step - loss: 0.0223 - acc: 0.9925 - val_loss: 0.7827 - val_acc: 0.8988\n",
            "Test loss: 0.7826945418160641\n",
            "Test accuracy: 0.8988\n"
          ],
          "name": "stdout"
        }
      ]
    },
    {
      "cell_type": "code",
      "metadata": {
        "id": "XX3yzVQTXdkF",
        "colab_type": "code",
        "outputId": "1ce52b1f-f38e-4fab-c89c-0251f734caa5",
        "colab": {
          "base_uri": "https://localhost:8080/",
          "height": 104
        }
      },
      "source": [
        "output_train=model.predict(x_train)\n",
        "output_test=model.predict(x_test)\n",
        "y_test = y_test.astype('int')\n",
        "y_train = y_train.astype('int')\n",
        "\n",
        "inference_accuracy=inference_via_confidence(output_train, output_test, y_train, y_test)\n",
        "print(\"Maximum Accuracy:\",inference_accuracy)"
      ],
      "execution_count": 7,
      "outputs": [
        {
          "output_type": "stream",
          "text": [
            "model accuracy for training and test- (0.9934833333333334, 0.8988)\n",
            "maximum inference accuracy is: 0.5486833333333332\n",
            "precision is: 0.5149474459875754\n",
            "recall is: 1.6771666666666667\n",
            "Maximum Accuracy: 0.5486833333333332\n"
          ],
          "name": "stdout"
        }
      ]
    }
  ]
}