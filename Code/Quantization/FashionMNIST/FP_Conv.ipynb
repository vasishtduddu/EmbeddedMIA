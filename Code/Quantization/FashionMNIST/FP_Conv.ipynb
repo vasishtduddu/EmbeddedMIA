{
  "nbformat": 4,
  "nbformat_minor": 0,
  "metadata": {
    "colab": {
      "name": "FP_Conv.ipynb",
      "provenance": [],
      "collapsed_sections": []
    },
    "kernelspec": {
      "name": "python3",
      "display_name": "Python 3"
    },
    "accelerator": "GPU"
  },
  "cells": [
    {
      "cell_type": "code",
      "metadata": {
        "id": "kRiPw7WvXK2D",
        "colab_type": "code",
        "outputId": "de43ae71-04f2-469e-fac7-12a302bd30db",
        "colab": {
          "base_uri": "https://localhost:8080/",
          "height": 34
        }
      },
      "source": [
        "from __future__ import print_function\n",
        "import keras\n",
        "from keras.datasets import fashion_mnist\n",
        "from keras.models import Sequential\n",
        "from keras.layers import Dense, Dropout, Flatten\n",
        "from keras.layers import Conv2D, MaxPooling2D\n",
        "from keras import backend as K\n",
        "import numpy as np\n",
        "import math\n",
        "import keras.backend as K\n",
        "from keras.datasets import fashion_mnist\n",
        "from keras.models import Sequential\n",
        "from keras.layers import Dense, Dropout, Activation, BatchNormalization, MaxPooling2D\n",
        "from keras.layers import Flatten\n",
        "from keras.optimizers import SGD, Adam, RMSprop\n",
        "from keras.callbacks import LearningRateScheduler\n",
        "from keras.utils import np_utils\n",
        "from keras.layers import InputSpec, Layer, Dense, Conv2D\n",
        "from keras import constraints\n",
        "from keras import initializers\n",
        "\n",
        "from keras import backend as K\n",
        "K.tensorflow_backend._get_available_gpus()"
      ],
      "execution_count": 7,
      "outputs": [
        {
          "output_type": "execute_result",
          "data": {
            "text/plain": [
              "['/job:localhost/replica:0/task:0/device:GPU:0']"
            ]
          },
          "metadata": {
            "tags": []
          },
          "execution_count": 7
        }
      ]
    },
    {
      "cell_type": "code",
      "metadata": {
        "id": "bXsKQno9XVd2",
        "colab_type": "code",
        "colab": {}
      },
      "source": [
        "def inference_via_confidence(confidence_mtx1, confidence_mtx2, label_vec1, label_vec2):\n",
        "\n",
        "    #----------------First step: obtain confidence lists for both training dataset and test dataset--------------\n",
        "    confidence1 = []\n",
        "    confidence2 = []\n",
        "    acc1 = 0\n",
        "    acc2 = 0\n",
        "    for num in range(confidence_mtx1.shape[0]):\n",
        "        confidence1.append(confidence_mtx1[num,label_vec1[num]])\n",
        "        if np.argmax(confidence_mtx1[num,:]) == np.argmax(label_vec1[num]):\n",
        "            acc1 += 1\n",
        "\n",
        "    for num in range(confidence_mtx2.shape[0]):\n",
        "        confidence2.append(confidence_mtx2[num,label_vec2[num]])\n",
        "        if np.argmax(confidence_mtx2[num,:]) == np.argmax(label_vec2[num]):\n",
        "            acc2 += 1\n",
        "    confidence1 = np.array(confidence1)\n",
        "    confidence2 = np.array(confidence2)\n",
        "\n",
        "    print('model accuracy for training and test-', (acc1/confidence_mtx1.shape[0], acc2/confidence_mtx2.shape[0]) )\n",
        "\n",
        "\n",
        "    #sort_confidence = np.sort(confidence1)\n",
        "    sort_confidence = np.sort(np.concatenate((confidence1, confidence2)))\n",
        "    max_accuracy = 0.5\n",
        "    best_precision = 0.5\n",
        "    best_recall = 0.5\n",
        "    for num in range(len(sort_confidence)):\n",
        "        delta = sort_confidence[num]\n",
        "        ratio1 = np.sum(confidence1>=delta)/confidence_mtx1.shape[0]\n",
        "        ratio2 = np.sum(confidence2>=delta)/confidence_mtx2.shape[0]\n",
        "        accuracy_now = 0.5*(ratio1+1-ratio2)\n",
        "        if accuracy_now > max_accuracy:\n",
        "            max_accuracy = accuracy_now\n",
        "            best_precision = ratio1/(ratio1+ratio2)\n",
        "            best_recall = ratio1\n",
        "    print('maximum inference accuracy is:', max_accuracy)\n",
        "    print('precision is:', best_precision)\n",
        "    print('recall is:', best_recall)\n",
        "    return max_accuracy\n"
      ],
      "execution_count": 0,
      "outputs": []
    },
    {
      "cell_type": "code",
      "metadata": {
        "id": "Xe4bTlEPXXUI",
        "colab_type": "code",
        "colab": {}
      },
      "source": [
        "batch_size = 128\n",
        "num_classes = 10\n",
        "epochs = 75"
      ],
      "execution_count": 0,
      "outputs": []
    },
    {
      "cell_type": "code",
      "metadata": {
        "id": "JwWgFCItXZOe",
        "colab_type": "code",
        "outputId": "2cd72b78-7839-4d76-e0ad-2070b024a54e",
        "colab": {
          "base_uri": "https://localhost:8080/",
          "height": 69
        }
      },
      "source": [
        "# input image dimensions\n",
        "img_rows, img_cols = 28, 28\n",
        "\n",
        "# the data, split between train and test sets\n",
        "(x_train, y_train), (x_test, y_test) = fashion_mnist.load_data()\n",
        "\n",
        "if K.image_data_format() == 'channels_first':\n",
        "    x_train = x_train.reshape(x_train.shape[0], 1, img_rows, img_cols)\n",
        "    x_test = x_test.reshape(x_test.shape[0], 1, img_rows, img_cols)\n",
        "    input_shape = (1, img_rows, img_cols)\n",
        "else:\n",
        "    x_train = x_train.reshape(x_train.shape[0], img_rows, img_cols, 1)\n",
        "    x_test = x_test.reshape(x_test.shape[0], img_rows, img_cols, 1)\n",
        "    input_shape = (img_rows, img_cols, 1)\n",
        "\n",
        "x_train = x_train.astype('float32')\n",
        "x_test = x_test.astype('float32')\n",
        "x_train /= 255\n",
        "x_test /= 255\n",
        "print('x_train shape:', x_train.shape)\n",
        "print(x_train.shape[0], 'train samples')\n",
        "print(x_test.shape[0], 'test samples')\n",
        "\n",
        "# convert class vectors to binary class matrices\n",
        "y_train = keras.utils.to_categorical(y_train, num_classes)\n",
        "y_test = keras.utils.to_categorical(y_test, num_classes)\n"
      ],
      "execution_count": 10,
      "outputs": [
        {
          "output_type": "stream",
          "text": [
            "x_train shape: (60000, 28, 28, 1)\n",
            "60000 train samples\n",
            "10000 test samples\n"
          ],
          "name": "stdout"
        }
      ]
    },
    {
      "cell_type": "code",
      "metadata": {
        "id": "qaMd61rzXbUz",
        "colab_type": "code",
        "colab": {
          "base_uri": "https://localhost:8080/",
          "height": 454
        },
        "outputId": "a5ccc9c9-2788-4123-ff01-bd6861415157"
      },
      "source": [
        "model = Sequential()\n",
        "model.add(Conv2D(32, kernel_size=(3, 3),activation='relu',input_shape=input_shape))\n",
        "model.add(Conv2D(64, (3, 3), activation='relu'))\n",
        "model.add(MaxPooling2D(pool_size=(2, 2)))\n",
        "model.add(Flatten())\n",
        "model.add(Dense(128, activation='relu'))\n",
        "model.add(Dense(num_classes, activation='softmax'))\n",
        "\n",
        "model.compile(loss=keras.losses.categorical_crossentropy,optimizer=keras.optimizers.Adadelta(),metrics=['accuracy'])\n",
        "model.summary()"
      ],
      "execution_count": 11,
      "outputs": [
        {
          "output_type": "stream",
          "text": [
            "WARNING:tensorflow:From /usr/local/lib/python3.6/dist-packages/keras/optimizers.py:793: The name tf.train.Optimizer is deprecated. Please use tf.compat.v1.train.Optimizer instead.\n",
            "\n",
            "WARNING:tensorflow:From /usr/local/lib/python3.6/dist-packages/keras/backend/tensorflow_backend.py:3576: The name tf.log is deprecated. Please use tf.math.log instead.\n",
            "\n",
            "Model: \"sequential_2\"\n",
            "_________________________________________________________________\n",
            "Layer (type)                 Output Shape              Param #   \n",
            "=================================================================\n",
            "conv2d_3 (Conv2D)            (None, 26, 26, 32)        320       \n",
            "_________________________________________________________________\n",
            "conv2d_4 (Conv2D)            (None, 24, 24, 64)        18496     \n",
            "_________________________________________________________________\n",
            "max_pooling2d_2 (MaxPooling2 (None, 12, 12, 64)        0         \n",
            "_________________________________________________________________\n",
            "flatten_2 (Flatten)          (None, 9216)              0         \n",
            "_________________________________________________________________\n",
            "dense_3 (Dense)              (None, 128)               1179776   \n",
            "_________________________________________________________________\n",
            "dense_4 (Dense)              (None, 10)                1290      \n",
            "=================================================================\n",
            "Total params: 1,199,882\n",
            "Trainable params: 1,199,882\n",
            "Non-trainable params: 0\n",
            "_________________________________________________________________\n"
          ],
          "name": "stdout"
        }
      ]
    },
    {
      "cell_type": "code",
      "metadata": {
        "id": "pi2KZ3G-mz8Y",
        "colab_type": "code",
        "outputId": "2eb5f1fb-ff18-4f3b-f965-84146f36a00a",
        "colab": {
          "base_uri": "https://localhost:8080/",
          "height": 1000
        }
      },
      "source": [
        "model.fit(x_train, y_train,batch_size=batch_size,epochs=75,verbose=1,validation_data=(x_test, y_test))\n",
        "score = model.evaluate(x_test, y_test, verbose=0)\n",
        "print('Test loss:', score[0])\n",
        "print('Test accuracy:', score[1])"
      ],
      "execution_count": 12,
      "outputs": [
        {
          "output_type": "stream",
          "text": [
            "WARNING:tensorflow:From /usr/local/lib/python3.6/dist-packages/tensorflow_core/python/ops/math_grad.py:1424: where (from tensorflow.python.ops.array_ops) is deprecated and will be removed in a future version.\n",
            "Instructions for updating:\n",
            "Use tf.where in 2.0, which has the same broadcast rule as np.where\n",
            "WARNING:tensorflow:From /usr/local/lib/python3.6/dist-packages/keras/backend/tensorflow_backend.py:1033: The name tf.assign_add is deprecated. Please use tf.compat.v1.assign_add instead.\n",
            "\n",
            "WARNING:tensorflow:From /usr/local/lib/python3.6/dist-packages/keras/backend/tensorflow_backend.py:1020: The name tf.assign is deprecated. Please use tf.compat.v1.assign instead.\n",
            "\n",
            "Train on 60000 samples, validate on 10000 samples\n",
            "Epoch 1/75\n",
            "WARNING:tensorflow:From /usr/local/lib/python3.6/dist-packages/keras/backend/tensorflow_backend.py:216: The name tf.is_variable_initialized is deprecated. Please use tf.compat.v1.is_variable_initialized instead.\n",
            "\n",
            "WARNING:tensorflow:From /usr/local/lib/python3.6/dist-packages/keras/backend/tensorflow_backend.py:223: The name tf.variables_initializer is deprecated. Please use tf.compat.v1.variables_initializer instead.\n",
            "\n",
            "60000/60000 [==============================] - 8s 128us/step - loss: 0.4868 - acc: 0.8254 - val_loss: 0.3529 - val_acc: 0.8724\n",
            "Epoch 2/75\n",
            "60000/60000 [==============================] - 5s 78us/step - loss: 0.2931 - acc: 0.8944 - val_loss: 0.2825 - val_acc: 0.8961\n",
            "Epoch 3/75\n",
            "60000/60000 [==============================] - 5s 77us/step - loss: 0.2415 - acc: 0.9115 - val_loss: 0.2614 - val_acc: 0.9049\n",
            "Epoch 4/75\n",
            "60000/60000 [==============================] - 5s 79us/step - loss: 0.2051 - acc: 0.9250 - val_loss: 0.2461 - val_acc: 0.9118\n",
            "Epoch 5/75\n",
            "60000/60000 [==============================] - 5s 78us/step - loss: 0.1774 - acc: 0.9351 - val_loss: 0.2396 - val_acc: 0.9149\n",
            "Epoch 6/75\n",
            "60000/60000 [==============================] - 5s 76us/step - loss: 0.1522 - acc: 0.9433 - val_loss: 0.2256 - val_acc: 0.9191\n",
            "Epoch 7/75\n",
            "60000/60000 [==============================] - 5s 79us/step - loss: 0.1286 - acc: 0.9536 - val_loss: 0.2518 - val_acc: 0.9151\n",
            "Epoch 8/75\n",
            "60000/60000 [==============================] - 5s 77us/step - loss: 0.1094 - acc: 0.9600 - val_loss: 0.2422 - val_acc: 0.9202\n",
            "Epoch 9/75\n",
            "60000/60000 [==============================] - 5s 77us/step - loss: 0.0897 - acc: 0.9672 - val_loss: 0.2649 - val_acc: 0.9140\n",
            "Epoch 10/75\n",
            "60000/60000 [==============================] - 5s 77us/step - loss: 0.0739 - acc: 0.9737 - val_loss: 0.2644 - val_acc: 0.9220\n",
            "Epoch 11/75\n",
            "60000/60000 [==============================] - 5s 77us/step - loss: 0.0591 - acc: 0.9788 - val_loss: 0.2744 - val_acc: 0.9206\n",
            "Epoch 12/75\n",
            "60000/60000 [==============================] - 5s 77us/step - loss: 0.0470 - acc: 0.9841 - val_loss: 0.3113 - val_acc: 0.9195\n",
            "Epoch 13/75\n",
            "60000/60000 [==============================] - 5s 77us/step - loss: 0.0364 - acc: 0.9876 - val_loss: 0.3224 - val_acc: 0.9194\n",
            "Epoch 14/75\n",
            "60000/60000 [==============================] - 5s 76us/step - loss: 0.0278 - acc: 0.9911 - val_loss: 0.3570 - val_acc: 0.9191\n",
            "Epoch 15/75\n",
            "60000/60000 [==============================] - 5s 78us/step - loss: 0.0222 - acc: 0.9929 - val_loss: 0.3671 - val_acc: 0.9227\n",
            "Epoch 16/75\n",
            "60000/60000 [==============================] - 5s 77us/step - loss: 0.0167 - acc: 0.9948 - val_loss: 0.3784 - val_acc: 0.9257\n",
            "Epoch 17/75\n",
            "60000/60000 [==============================] - 5s 79us/step - loss: 0.0121 - acc: 0.9962 - val_loss: 0.5007 - val_acc: 0.9091\n",
            "Epoch 18/75\n",
            "60000/60000 [==============================] - 5s 76us/step - loss: 0.0081 - acc: 0.9979 - val_loss: 0.4311 - val_acc: 0.9205\n",
            "Epoch 19/75\n",
            "60000/60000 [==============================] - 5s 76us/step - loss: 0.0053 - acc: 0.9988 - val_loss: 0.4773 - val_acc: 0.9192\n",
            "Epoch 20/75\n",
            "60000/60000 [==============================] - 5s 78us/step - loss: 0.0046 - acc: 0.9988 - val_loss: 0.4733 - val_acc: 0.9240\n",
            "Epoch 21/75\n",
            "60000/60000 [==============================] - 5s 77us/step - loss: 0.0021 - acc: 0.9997 - val_loss: 0.5154 - val_acc: 0.9185\n",
            "Epoch 22/75\n",
            "60000/60000 [==============================] - 5s 76us/step - loss: 0.0023 - acc: 0.9995 - val_loss: 0.4922 - val_acc: 0.9238\n",
            "Epoch 23/75\n",
            "60000/60000 [==============================] - 5s 78us/step - loss: 0.0014 - acc: 0.9996 - val_loss: 0.5354 - val_acc: 0.9208\n",
            "Epoch 24/75\n",
            "60000/60000 [==============================] - 5s 76us/step - loss: 6.4988e-04 - acc: 0.9999 - val_loss: 0.5358 - val_acc: 0.9251\n",
            "Epoch 25/75\n",
            "60000/60000 [==============================] - 5s 76us/step - loss: 4.9563e-04 - acc: 0.9999 - val_loss: 0.5705 - val_acc: 0.9209\n",
            "Epoch 26/75\n",
            "60000/60000 [==============================] - 5s 75us/step - loss: 2.5867e-04 - acc: 1.0000 - val_loss: 0.5779 - val_acc: 0.9243\n",
            "Epoch 27/75\n",
            "60000/60000 [==============================] - 5s 77us/step - loss: 1.0926e-04 - acc: 1.0000 - val_loss: 0.5906 - val_acc: 0.9250\n",
            "Epoch 28/75\n",
            "60000/60000 [==============================] - 5s 78us/step - loss: 8.1115e-05 - acc: 1.0000 - val_loss: 0.5982 - val_acc: 0.9250\n",
            "Epoch 29/75\n",
            "60000/60000 [==============================] - 5s 77us/step - loss: 6.4312e-05 - acc: 1.0000 - val_loss: 0.6088 - val_acc: 0.9254\n",
            "Epoch 30/75\n",
            "60000/60000 [==============================] - 5s 77us/step - loss: 5.2730e-05 - acc: 1.0000 - val_loss: 0.6174 - val_acc: 0.9242\n",
            "Epoch 31/75\n",
            "60000/60000 [==============================] - 5s 78us/step - loss: 4.5325e-05 - acc: 1.0000 - val_loss: 0.6220 - val_acc: 0.9245\n",
            "Epoch 32/75\n",
            "60000/60000 [==============================] - 5s 76us/step - loss: 4.0348e-05 - acc: 1.0000 - val_loss: 0.6278 - val_acc: 0.9245\n",
            "Epoch 33/75\n",
            "60000/60000 [==============================] - 5s 77us/step - loss: 3.5813e-05 - acc: 1.0000 - val_loss: 0.6310 - val_acc: 0.9247\n",
            "Epoch 34/75\n",
            "60000/60000 [==============================] - 5s 77us/step - loss: 3.1895e-05 - acc: 1.0000 - val_loss: 0.6361 - val_acc: 0.9247\n",
            "Epoch 35/75\n",
            "60000/60000 [==============================] - 5s 78us/step - loss: 2.9608e-05 - acc: 1.0000 - val_loss: 0.6403 - val_acc: 0.9243\n",
            "Epoch 36/75\n",
            "60000/60000 [==============================] - 5s 76us/step - loss: 2.7067e-05 - acc: 1.0000 - val_loss: 0.6444 - val_acc: 0.9242\n",
            "Epoch 37/75\n",
            "60000/60000 [==============================] - 5s 77us/step - loss: 2.5031e-05 - acc: 1.0000 - val_loss: 0.6467 - val_acc: 0.9246\n",
            "Epoch 38/75\n",
            "60000/60000 [==============================] - 5s 77us/step - loss: 2.3133e-05 - acc: 1.0000 - val_loss: 0.6501 - val_acc: 0.9244\n",
            "Epoch 39/75\n",
            "60000/60000 [==============================] - 5s 77us/step - loss: 2.1633e-05 - acc: 1.0000 - val_loss: 0.6531 - val_acc: 0.9238\n",
            "Epoch 40/75\n",
            "60000/60000 [==============================] - 5s 76us/step - loss: 2.0458e-05 - acc: 1.0000 - val_loss: 0.6563 - val_acc: 0.9245\n",
            "Epoch 41/75\n",
            "60000/60000 [==============================] - 5s 77us/step - loss: 1.9190e-05 - acc: 1.0000 - val_loss: 0.6585 - val_acc: 0.9241\n",
            "Epoch 42/75\n",
            "60000/60000 [==============================] - 5s 76us/step - loss: 1.8037e-05 - acc: 1.0000 - val_loss: 0.6609 - val_acc: 0.9241\n",
            "Epoch 43/75\n",
            "60000/60000 [==============================] - 5s 78us/step - loss: 1.7038e-05 - acc: 1.0000 - val_loss: 0.6628 - val_acc: 0.9247\n",
            "Epoch 44/75\n",
            "60000/60000 [==============================] - 5s 78us/step - loss: 1.6288e-05 - acc: 1.0000 - val_loss: 0.6650 - val_acc: 0.9245\n",
            "Epoch 45/75\n",
            "60000/60000 [==============================] - 5s 76us/step - loss: 1.5529e-05 - acc: 1.0000 - val_loss: 0.6672 - val_acc: 0.9247\n",
            "Epoch 46/75\n",
            "60000/60000 [==============================] - 5s 77us/step - loss: 1.4788e-05 - acc: 1.0000 - val_loss: 0.6691 - val_acc: 0.9243\n",
            "Epoch 47/75\n",
            "60000/60000 [==============================] - 5s 77us/step - loss: 1.4151e-05 - acc: 1.0000 - val_loss: 0.6707 - val_acc: 0.9243\n",
            "Epoch 48/75\n",
            "60000/60000 [==============================] - 5s 76us/step - loss: 1.3551e-05 - acc: 1.0000 - val_loss: 0.6730 - val_acc: 0.9235\n",
            "Epoch 49/75\n",
            "60000/60000 [==============================] - 5s 76us/step - loss: 1.2975e-05 - acc: 1.0000 - val_loss: 0.6744 - val_acc: 0.9243\n",
            "Epoch 50/75\n",
            "60000/60000 [==============================] - 5s 76us/step - loss: 1.2442e-05 - acc: 1.0000 - val_loss: 0.6762 - val_acc: 0.9239\n",
            "Epoch 51/75\n",
            "60000/60000 [==============================] - 5s 76us/step - loss: 1.1960e-05 - acc: 1.0000 - val_loss: 0.6771 - val_acc: 0.9247\n",
            "Epoch 52/75\n",
            "60000/60000 [==============================] - 5s 77us/step - loss: 1.1560e-05 - acc: 1.0000 - val_loss: 0.6788 - val_acc: 0.9242\n",
            "Epoch 53/75\n",
            "60000/60000 [==============================] - 5s 76us/step - loss: 1.1126e-05 - acc: 1.0000 - val_loss: 0.6807 - val_acc: 0.9243\n",
            "Epoch 54/75\n",
            "60000/60000 [==============================] - 5s 77us/step - loss: 1.0747e-05 - acc: 1.0000 - val_loss: 0.6817 - val_acc: 0.9241\n",
            "Epoch 55/75\n",
            "60000/60000 [==============================] - 5s 77us/step - loss: 1.0407e-05 - acc: 1.0000 - val_loss: 0.6830 - val_acc: 0.9242\n",
            "Epoch 56/75\n",
            "60000/60000 [==============================] - 5s 81us/step - loss: 1.0027e-05 - acc: 1.0000 - val_loss: 0.6845 - val_acc: 0.9239\n",
            "Epoch 57/75\n",
            "60000/60000 [==============================] - 5s 78us/step - loss: 9.7759e-06 - acc: 1.0000 - val_loss: 0.6857 - val_acc: 0.9239\n",
            "Epoch 58/75\n",
            "60000/60000 [==============================] - 5s 77us/step - loss: 9.4753e-06 - acc: 1.0000 - val_loss: 0.6871 - val_acc: 0.9237\n",
            "Epoch 59/75\n",
            "60000/60000 [==============================] - 5s 77us/step - loss: 9.1893e-06 - acc: 1.0000 - val_loss: 0.6881 - val_acc: 0.9241\n",
            "Epoch 60/75\n",
            "60000/60000 [==============================] - 5s 77us/step - loss: 8.8878e-06 - acc: 1.0000 - val_loss: 0.6889 - val_acc: 0.9240\n",
            "Epoch 61/75\n",
            "60000/60000 [==============================] - 5s 77us/step - loss: 8.6890e-06 - acc: 1.0000 - val_loss: 0.6905 - val_acc: 0.9237\n",
            "Epoch 62/75\n",
            "60000/60000 [==============================] - 5s 77us/step - loss: 8.4580e-06 - acc: 1.0000 - val_loss: 0.6914 - val_acc: 0.9235\n",
            "Epoch 63/75\n",
            "60000/60000 [==============================] - 5s 76us/step - loss: 8.2022e-06 - acc: 1.0000 - val_loss: 0.6929 - val_acc: 0.9236\n",
            "Epoch 64/75\n",
            "60000/60000 [==============================] - 5s 77us/step - loss: 8.0081e-06 - acc: 1.0000 - val_loss: 0.6939 - val_acc: 0.9233\n",
            "Epoch 65/75\n",
            "60000/60000 [==============================] - 5s 77us/step - loss: 7.7884e-06 - acc: 1.0000 - val_loss: 0.6944 - val_acc: 0.9237\n",
            "Epoch 66/75\n",
            "60000/60000 [==============================] - 5s 80us/step - loss: 7.6247e-06 - acc: 1.0000 - val_loss: 0.6953 - val_acc: 0.9236\n",
            "Epoch 67/75\n",
            "60000/60000 [==============================] - 5s 80us/step - loss: 7.4138e-06 - acc: 1.0000 - val_loss: 0.6962 - val_acc: 0.9237\n",
            "Epoch 68/75\n",
            "60000/60000 [==============================] - 5s 75us/step - loss: 7.2502e-06 - acc: 1.0000 - val_loss: 0.6975 - val_acc: 0.9236\n",
            "Epoch 69/75\n",
            "60000/60000 [==============================] - 5s 79us/step - loss: 7.0674e-06 - acc: 1.0000 - val_loss: 0.6979 - val_acc: 0.9235\n",
            "Epoch 70/75\n",
            "60000/60000 [==============================] - 5s 77us/step - loss: 6.9187e-06 - acc: 1.0000 - val_loss: 0.6989 - val_acc: 0.9235\n",
            "Epoch 71/75\n",
            "60000/60000 [==============================] - 5s 77us/step - loss: 6.7486e-06 - acc: 1.0000 - val_loss: 0.6999 - val_acc: 0.9234\n",
            "Epoch 72/75\n",
            "60000/60000 [==============================] - 5s 77us/step - loss: 6.6183e-06 - acc: 1.0000 - val_loss: 0.7005 - val_acc: 0.9233\n",
            "Epoch 73/75\n",
            "60000/60000 [==============================] - 5s 78us/step - loss: 6.4710e-06 - acc: 1.0000 - val_loss: 0.7012 - val_acc: 0.9236\n",
            "Epoch 74/75\n",
            "60000/60000 [==============================] - 5s 78us/step - loss: 6.3269e-06 - acc: 1.0000 - val_loss: 0.7020 - val_acc: 0.9234\n",
            "Epoch 75/75\n",
            "60000/60000 [==============================] - 5s 76us/step - loss: 6.2121e-06 - acc: 1.0000 - val_loss: 0.7028 - val_acc: 0.9235\n",
            "Test loss: 0.7028105759826467\n",
            "Test accuracy: 0.9235\n"
          ],
          "name": "stdout"
        }
      ]
    },
    {
      "cell_type": "code",
      "metadata": {
        "id": "XX3yzVQTXdkF",
        "colab_type": "code",
        "outputId": "0eeeeade-7fdb-4399-815e-21c34b4dbe66",
        "colab": {
          "base_uri": "https://localhost:8080/",
          "height": 104
        }
      },
      "source": [
        "output_train=model.predict(x_train)\n",
        "output_test=model.predict(x_test)\n",
        "y_test = y_test.astype('int')\n",
        "y_train = y_train.astype('int')\n",
        "\n",
        "inference_accuracy=inference_via_confidence(output_train, output_test, y_train, y_test)\n",
        "print(\"Maximum Accuracy:\",inference_accuracy)"
      ],
      "execution_count": 13,
      "outputs": [
        {
          "output_type": "stream",
          "text": [
            "model accuracy for training and test- (1.0, 0.9235)\n",
            "maximum inference accuracy is: 0.5746750000000002\n",
            "precision is: 0.5194094636568027\n",
            "recall is: 1.99835\n",
            "Maximum Accuracy: 0.5746750000000002\n"
          ],
          "name": "stdout"
        }
      ]
    }
  ]
}