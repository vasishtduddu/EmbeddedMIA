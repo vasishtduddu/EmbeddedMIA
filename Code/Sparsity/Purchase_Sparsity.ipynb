{
  "nbformat": 4,
  "nbformat_minor": 0,
  "metadata": {
    "colab": {
      "name": "Purchase_Sparsity.ipynb",
      "provenance": [],
      "collapsed_sections": []
    },
    "kernelspec": {
      "name": "python3",
      "display_name": "Python 3"
    },
    "accelerator": "GPU"
  },
  "cells": [
    {
      "cell_type": "code",
      "metadata": {
        "id": "0vwIXk9gmF61",
        "colab_type": "code",
        "outputId": "a98a2bb1-415c-41f9-9da0-43d26135ab04",
        "colab": {
          "base_uri": "https://localhost:8080/",
          "height": 81
        }
      },
      "source": [
        "from __future__ import print_function\n",
        "\n",
        "\n",
        "import numpy as np\n",
        "import pandas as pd\n",
        "from keras.layers import Conv2D, MaxPooling2D, Dense, Input, Dropout, Activation, Flatten\n",
        "from keras.models import Sequential\n",
        "from keras.optimizers import Adam\n",
        "import matplotlib.pyplot as plt\n",
        "from skimage.io import imshow\n",
        "from keras import backend as K\n",
        "from keras.constraints import Constraint\n",
        "from keras.datasets import fashion_mnist\n",
        "import keras\n",
        "from keras.models import Sequential\n",
        "from keras.utils import np_utils\n",
        "from keras.preprocessing.image import ImageDataGenerator\n",
        "from keras.layers import Dense, Activation, Flatten, Dropout, BatchNormalization\n",
        "from keras.layers import Conv2D, MaxPooling2D\n",
        "from keras.datasets import cifar10\n",
        "from keras import regularizers\n",
        "from keras.callbacks import LearningRateScheduler\n",
        "import numpy as np\n",
        "import warnings\n",
        "warnings.filterwarnings('ignore')\n",
        "from keras.models import Sequential\n",
        "from keras.layers import Dense, Dropout\n",
        "from keras.optimizers import RMSprop\n",
        "from keras.datasets import mnist\n",
        "from keras.models import Sequential\n",
        "from keras.layers import Dense, Dropout\n",
        "from keras.optimizers import RMSprop"
      ],
      "execution_count": 1,
      "outputs": [
        {
          "output_type": "stream",
          "text": [
            "Using TensorFlow backend.\n"
          ],
          "name": "stderr"
        },
        {
          "output_type": "display_data",
          "data": {
            "text/html": [
              "<p style=\"color: red;\">\n",
              "The default version of TensorFlow in Colab will soon switch to TensorFlow 2.x.<br>\n",
              "We recommend you <a href=\"https://www.tensorflow.org/guide/migrate\" target=\"_blank\">upgrade</a> now \n",
              "or ensure your notebook will continue to use TensorFlow 1.x via the <code>%tensorflow_version 1.x</code> magic:\n",
              "<a href=\"https://colab.research.google.com/notebooks/tensorflow_version.ipynb\" target=\"_blank\">more info</a>.</p>\n"
            ],
            "text/plain": [
              "<IPython.core.display.HTML object>"
            ]
          },
          "metadata": {
            "tags": []
          }
        }
      ]
    },
    {
      "cell_type": "code",
      "metadata": {
        "id": "1wTvIXArZ2-d",
        "colab_type": "code",
        "colab": {}
      },
      "source": [
        "def inference_via_confidence(confidence_mtx1, confidence_mtx2, label_vec1, label_vec2):\n",
        "\n",
        "    #----------------First step: obtain confidence lists for both training dataset and test dataset--------------\n",
        "    confidence1 = []\n",
        "    confidence2 = []\n",
        "    acc1 = 0\n",
        "    acc2 = 0\n",
        "    for num in range(confidence_mtx1.shape[0]):\n",
        "        confidence1.append(confidence_mtx1[num,label_vec1[num]])\n",
        "        if np.argmax(confidence_mtx1[num,:]) == np.argmax(label_vec1[num]):\n",
        "            acc1 += 1\n",
        "\n",
        "    for num in range(confidence_mtx2.shape[0]):\n",
        "        confidence2.append(confidence_mtx2[num,label_vec2[num]])\n",
        "        if np.argmax(confidence_mtx2[num,:]) == np.argmax(label_vec2[num]):\n",
        "            acc2 += 1\n",
        "    confidence1 = np.array(confidence1)\n",
        "    confidence2 = np.array(confidence2)\n",
        "\n",
        "    print('model accuracy for training and test-', (acc1/confidence_mtx1.shape[0], acc2/confidence_mtx2.shape[0]) )\n",
        "\n",
        "\n",
        "    #sort_confidence = np.sort(confidence1)\n",
        "    sort_confidence = np.sort(np.concatenate((confidence1, confidence2)))\n",
        "    max_accuracy = 0.5\n",
        "    best_precision = 0.5\n",
        "    best_recall = 0.5\n",
        "    for num in range(len(sort_confidence)):\n",
        "        delta = sort_confidence[num]\n",
        "        ratio1 = np.sum(confidence1>=delta)/confidence_mtx1.shape[0]\n",
        "        ratio2 = np.sum(confidence2>=delta)/confidence_mtx2.shape[0]\n",
        "        accuracy_now = 0.5*(ratio1+1-ratio2)\n",
        "        if accuracy_now > max_accuracy:\n",
        "            max_accuracy = accuracy_now\n",
        "            best_precision = ratio1/(ratio1+ratio2)\n",
        "            best_recall = ratio1\n",
        "    print('maximum inference accuracy is:', max_accuracy)\n",
        "    print('precision is:', best_precision)\n",
        "    print('recall is:', best_recall)\n",
        "    return max_accuracy\n"
      ],
      "execution_count": 0,
      "outputs": []
    },
    {
      "cell_type": "code",
      "metadata": {
        "id": "DeNTdI_SN-9w",
        "colab_type": "code",
        "colab": {}
      },
      "source": [
        "class Sparse(Constraint):\n",
        "    '''\n",
        "    We will use one variable: Mask\n",
        "    After we train our model dense model,\n",
        "    we will save the weights and analyze them.\n",
        "    We will create a mask where 1 means the\n",
        "    number is far away enough from 0 and 0\n",
        "    if it is to close to 0. We will multiply\n",
        "    the weights by 0(making them 0) if they\n",
        "    are supposed to be masked.\n",
        "    '''\n",
        "\n",
        "    def __init__(self, mask):\n",
        "        self.mask = K.cast_to_floatx(mask)\n",
        "\n",
        "    def __call__(self,x):\n",
        "        return self.mask * x\n",
        "\n",
        "    def get_config(self):\n",
        "        return {'mask': self.mask}\n",
        "\n",
        "\n",
        "def create_sparsity_masks(model,sparsity):\n",
        "    weights_list = model.get_weights()\n",
        "    masks = []\n",
        "    for weights in weights_list:\n",
        "        #We can ignore biases\n",
        "        if len(weights.shape) > 1:\n",
        "            weights_abs = np.abs(weights)\n",
        "            masks.append((weights_abs>np.percentile(weights_abs,sparsity))*1.)\n",
        "    return masks"
      ],
      "execution_count": 0,
      "outputs": []
    },
    {
      "cell_type": "code",
      "metadata": {
        "id": "Puh4c5iRhrZj",
        "colab_type": "code",
        "outputId": "62b6dd67-1687-4320-b513-7b2a4a9cc2da",
        "colab": {
          "base_uri": "https://localhost:8080/",
          "height": 34
        }
      },
      "source": [
        "from google.colab import drive\n",
        "drive.mount('/content/gdrive')\n",
        "colab='Colab Notebooks'\n",
        "path = F\"/content/gdrive/My Drive/{colab}/dataset_purchase\" "
      ],
      "execution_count": 4,
      "outputs": [
        {
          "output_type": "stream",
          "text": [
            "Drive already mounted at /content/gdrive; to attempt to forcibly remount, call drive.mount(\"/content/gdrive\", force_remount=True).\n"
          ],
          "name": "stdout"
        }
      ]
    },
    {
      "cell_type": "code",
      "metadata": {
        "id": "K0rthX4bmLlr",
        "colab_type": "code",
        "outputId": "d205cb35-bdc6-4144-9930-acbb1a4d9028",
        "colab": {
          "base_uri": "https://localhost:8080/",
          "height": 52
        }
      },
      "source": [
        "print(\"Loading dataset...\")\n",
        "data_set =np.genfromtxt(path,delimiter=',')\n",
        "print(\"Dataset loaded.\")"
      ],
      "execution_count": 5,
      "outputs": [
        {
          "output_type": "stream",
          "text": [
            "Loading dataset...\n",
            "Dataset loaded.\n"
          ],
          "name": "stdout"
        }
      ]
    },
    {
      "cell_type": "code",
      "metadata": {
        "id": "YoaIAg7lmPSZ",
        "colab_type": "code",
        "colab": {}
      },
      "source": [
        "from sklearn.model_selection import train_test_split\n",
        "from torch.autograd import Variable\n",
        "from sklearn.metrics import accuracy_score, precision_score, recall_score\n",
        "\n",
        "X = data_set[:15000,1:].astype(np.float64)\n",
        "Y = (data_set[:15000,0]).astype(np.int32)-1\n",
        "\n",
        "x_train, x_test, y_train, y_test = train_test_split(X, Y, test_size=0.3)\n",
        "\n",
        "\n",
        "y_train = keras.utils.to_categorical(y_train, 100)\n",
        "y_test = keras.utils.to_categorical(y_test, 100)\n"
      ],
      "execution_count": 0,
      "outputs": []
    },
    {
      "cell_type": "code",
      "metadata": {
        "id": "xOOwIyYwXdGo",
        "colab_type": "code",
        "outputId": "1a3bffd5-23ca-4a92-d6ce-eb08f5e7ac09",
        "colab": {
          "base_uri": "https://localhost:8080/",
          "height": 1000
        }
      },
      "source": [
        "model = Sequential()\n",
        "model.add(Dense(1024, activation='relu', input_shape=(600,)))\n",
        "model.add(Dense(512, activation='relu'))\n",
        "model.add(Dense(256, activation='relu'))\n",
        "model.add(Dense(128, activation='relu'))\n",
        "model.add(Dense(100, activation='softmax'))\n",
        "\n",
        "model.summary()\n",
        "\n",
        "model.compile(loss='categorical_crossentropy',\n",
        "              optimizer=Adam(),\n",
        "              metrics=['accuracy'])\n",
        "\n",
        "\n",
        "history = model.fit(x_train, y_train,\n",
        "                    batch_size=128,\n",
        "                    epochs=50,\n",
        "                    verbose=1,\n",
        "                    validation_data=(x_test, y_test))\n",
        "score = model.evaluate(x_test, y_test, verbose=0)\n",
        "print('Test loss:', score[0])\n",
        "print('Test accuracy:', score[1])"
      ],
      "execution_count": 7,
      "outputs": [
        {
          "output_type": "stream",
          "text": [
            "WARNING:tensorflow:From /usr/local/lib/python3.6/dist-packages/keras/backend/tensorflow_backend.py:66: The name tf.get_default_graph is deprecated. Please use tf.compat.v1.get_default_graph instead.\n",
            "\n",
            "WARNING:tensorflow:From /usr/local/lib/python3.6/dist-packages/keras/backend/tensorflow_backend.py:541: The name tf.placeholder is deprecated. Please use tf.compat.v1.placeholder instead.\n",
            "\n",
            "WARNING:tensorflow:From /usr/local/lib/python3.6/dist-packages/keras/backend/tensorflow_backend.py:4432: The name tf.random_uniform is deprecated. Please use tf.random.uniform instead.\n",
            "\n",
            "Model: \"sequential_1\"\n",
            "_________________________________________________________________\n",
            "Layer (type)                 Output Shape              Param #   \n",
            "=================================================================\n",
            "dense_1 (Dense)              (None, 1024)              615424    \n",
            "_________________________________________________________________\n",
            "dense_2 (Dense)              (None, 512)               524800    \n",
            "_________________________________________________________________\n",
            "dense_3 (Dense)              (None, 256)               131328    \n",
            "_________________________________________________________________\n",
            "dense_4 (Dense)              (None, 128)               32896     \n",
            "_________________________________________________________________\n",
            "dense_5 (Dense)              (None, 100)               12900     \n",
            "=================================================================\n",
            "Total params: 1,317,348\n",
            "Trainable params: 1,317,348\n",
            "Non-trainable params: 0\n",
            "_________________________________________________________________\n",
            "WARNING:tensorflow:From /usr/local/lib/python3.6/dist-packages/keras/optimizers.py:793: The name tf.train.Optimizer is deprecated. Please use tf.compat.v1.train.Optimizer instead.\n",
            "\n",
            "WARNING:tensorflow:From /usr/local/lib/python3.6/dist-packages/keras/backend/tensorflow_backend.py:3576: The name tf.log is deprecated. Please use tf.math.log instead.\n",
            "\n",
            "WARNING:tensorflow:From /usr/local/lib/python3.6/dist-packages/tensorflow_core/python/ops/math_grad.py:1424: where (from tensorflow.python.ops.array_ops) is deprecated and will be removed in a future version.\n",
            "Instructions for updating:\n",
            "Use tf.where in 2.0, which has the same broadcast rule as np.where\n",
            "WARNING:tensorflow:From /usr/local/lib/python3.6/dist-packages/keras/backend/tensorflow_backend.py:1033: The name tf.assign_add is deprecated. Please use tf.compat.v1.assign_add instead.\n",
            "\n",
            "WARNING:tensorflow:From /usr/local/lib/python3.6/dist-packages/keras/backend/tensorflow_backend.py:1020: The name tf.assign is deprecated. Please use tf.compat.v1.assign instead.\n",
            "\n",
            "WARNING:tensorflow:From /usr/local/lib/python3.6/dist-packages/keras/backend/tensorflow_backend.py:3005: The name tf.Session is deprecated. Please use tf.compat.v1.Session instead.\n",
            "\n",
            "Train on 10500 samples, validate on 4500 samples\n",
            "Epoch 1/50\n",
            "WARNING:tensorflow:From /usr/local/lib/python3.6/dist-packages/keras/backend/tensorflow_backend.py:190: The name tf.get_default_session is deprecated. Please use tf.compat.v1.get_default_session instead.\n",
            "\n",
            "WARNING:tensorflow:From /usr/local/lib/python3.6/dist-packages/keras/backend/tensorflow_backend.py:197: The name tf.ConfigProto is deprecated. Please use tf.compat.v1.ConfigProto instead.\n",
            "\n",
            "WARNING:tensorflow:From /usr/local/lib/python3.6/dist-packages/keras/backend/tensorflow_backend.py:207: The name tf.global_variables is deprecated. Please use tf.compat.v1.global_variables instead.\n",
            "\n",
            "WARNING:tensorflow:From /usr/local/lib/python3.6/dist-packages/keras/backend/tensorflow_backend.py:216: The name tf.is_variable_initialized is deprecated. Please use tf.compat.v1.is_variable_initialized instead.\n",
            "\n",
            "WARNING:tensorflow:From /usr/local/lib/python3.6/dist-packages/keras/backend/tensorflow_backend.py:223: The name tf.variables_initializer is deprecated. Please use tf.compat.v1.variables_initializer instead.\n",
            "\n",
            "10500/10500 [==============================] - 4s 374us/step - loss: 3.3264 - acc: 0.1823 - val_loss: 2.1346 - val_acc: 0.3231\n",
            "Epoch 2/50\n",
            "10500/10500 [==============================] - 1s 58us/step - loss: 1.3764 - acc: 0.5388 - val_loss: 1.3648 - val_acc: 0.5351\n",
            "Epoch 3/50\n",
            "10500/10500 [==============================] - 1s 56us/step - loss: 0.8905 - acc: 0.6917 - val_loss: 1.1616 - val_acc: 0.6089\n",
            "Epoch 4/50\n",
            "10500/10500 [==============================] - 1s 56us/step - loss: 0.6228 - acc: 0.7876 - val_loss: 1.1032 - val_acc: 0.6333\n",
            "Epoch 5/50\n",
            "10500/10500 [==============================] - 1s 55us/step - loss: 0.4730 - acc: 0.8332 - val_loss: 1.2876 - val_acc: 0.6071\n",
            "Epoch 6/50\n",
            "10500/10500 [==============================] - 1s 56us/step - loss: 0.5338 - acc: 0.8318 - val_loss: 0.9589 - val_acc: 0.6842\n",
            "Epoch 7/50\n",
            "10500/10500 [==============================] - 1s 54us/step - loss: 0.3280 - acc: 0.9056 - val_loss: 1.1488 - val_acc: 0.6511\n",
            "Epoch 8/50\n",
            "10500/10500 [==============================] - 1s 56us/step - loss: 0.1897 - acc: 0.9394 - val_loss: 1.1134 - val_acc: 0.6871\n",
            "Epoch 9/50\n",
            "10500/10500 [==============================] - 1s 54us/step - loss: 0.1846 - acc: 0.9410 - val_loss: 1.1465 - val_acc: 0.6736\n",
            "Epoch 10/50\n",
            "10500/10500 [==============================] - 1s 56us/step - loss: 0.1743 - acc: 0.9433 - val_loss: 1.2569 - val_acc: 0.6704\n",
            "Epoch 11/50\n",
            "10500/10500 [==============================] - 1s 55us/step - loss: 0.2955 - acc: 0.9267 - val_loss: 1.0334 - val_acc: 0.7029\n",
            "Epoch 12/50\n",
            "10500/10500 [==============================] - 1s 57us/step - loss: 0.0538 - acc: 0.9861 - val_loss: 0.9563 - val_acc: 0.7307\n",
            "Epoch 13/50\n",
            "10500/10500 [==============================] - 1s 56us/step - loss: 0.0317 - acc: 0.9928 - val_loss: 1.0762 - val_acc: 0.7229\n",
            "Epoch 14/50\n",
            "10500/10500 [==============================] - 1s 56us/step - loss: 0.0290 - acc: 0.9936 - val_loss: 1.0426 - val_acc: 0.7278\n",
            "Epoch 15/50\n",
            "10500/10500 [==============================] - 1s 55us/step - loss: 0.0258 - acc: 0.9950 - val_loss: 1.7943 - val_acc: 0.6427\n",
            "Epoch 16/50\n",
            "10500/10500 [==============================] - 1s 58us/step - loss: 0.2008 - acc: 0.9382 - val_loss: 1.2154 - val_acc: 0.6907\n",
            "Epoch 17/50\n",
            "10500/10500 [==============================] - 1s 57us/step - loss: 0.0493 - acc: 0.9856 - val_loss: 1.1606 - val_acc: 0.7156\n",
            "Epoch 18/50\n",
            "10500/10500 [==============================] - 1s 55us/step - loss: 0.0326 - acc: 0.9910 - val_loss: 1.1384 - val_acc: 0.7249\n",
            "Epoch 19/50\n",
            "10500/10500 [==============================] - 1s 55us/step - loss: 0.0172 - acc: 0.9960 - val_loss: 1.1771 - val_acc: 0.7209\n",
            "Epoch 20/50\n",
            "10500/10500 [==============================] - 1s 57us/step - loss: 0.0106 - acc: 0.9980 - val_loss: 1.1998 - val_acc: 0.7260\n",
            "Epoch 21/50\n",
            "10500/10500 [==============================] - 1s 59us/step - loss: 0.0046 - acc: 0.9992 - val_loss: 1.0834 - val_acc: 0.7464\n",
            "Epoch 22/50\n",
            "10500/10500 [==============================] - 1s 53us/step - loss: 9.8706e-04 - acc: 1.0000 - val_loss: 1.0547 - val_acc: 0.7553\n",
            "Epoch 23/50\n",
            "10500/10500 [==============================] - 1s 69us/step - loss: 5.1324e-04 - acc: 1.0000 - val_loss: 1.0555 - val_acc: 0.7549\n",
            "Epoch 24/50\n",
            "10500/10500 [==============================] - 1s 68us/step - loss: 4.2313e-04 - acc: 1.0000 - val_loss: 1.0633 - val_acc: 0.7538\n",
            "Epoch 25/50\n",
            "10500/10500 [==============================] - 1s 62us/step - loss: 3.6425e-04 - acc: 1.0000 - val_loss: 1.0698 - val_acc: 0.7549\n",
            "Epoch 26/50\n",
            "10500/10500 [==============================] - 1s 58us/step - loss: 3.2096e-04 - acc: 1.0000 - val_loss: 1.0771 - val_acc: 0.7576\n",
            "Epoch 27/50\n",
            "10500/10500 [==============================] - 1s 55us/step - loss: 2.8597e-04 - acc: 1.0000 - val_loss: 1.0839 - val_acc: 0.7562\n",
            "Epoch 28/50\n",
            "10500/10500 [==============================] - 1s 53us/step - loss: 2.6547e-04 - acc: 1.0000 - val_loss: 1.0894 - val_acc: 0.7564\n",
            "Epoch 29/50\n",
            "10500/10500 [==============================] - 1s 53us/step - loss: 2.3619e-04 - acc: 1.0000 - val_loss: 1.0937 - val_acc: 0.7578\n",
            "Epoch 30/50\n",
            "10500/10500 [==============================] - 1s 59us/step - loss: 2.1544e-04 - acc: 1.0000 - val_loss: 1.1000 - val_acc: 0.7576\n",
            "Epoch 31/50\n",
            "10500/10500 [==============================] - 1s 59us/step - loss: 1.9713e-04 - acc: 1.0000 - val_loss: 1.1043 - val_acc: 0.7578\n",
            "Epoch 32/50\n",
            "10500/10500 [==============================] - 1s 56us/step - loss: 1.8216e-04 - acc: 1.0000 - val_loss: 1.1103 - val_acc: 0.7587\n",
            "Epoch 33/50\n",
            "10500/10500 [==============================] - 1s 59us/step - loss: 1.6878e-04 - acc: 1.0000 - val_loss: 1.1155 - val_acc: 0.7604\n",
            "Epoch 34/50\n",
            "10500/10500 [==============================] - 1s 56us/step - loss: 1.5735e-04 - acc: 1.0000 - val_loss: 1.1202 - val_acc: 0.7596\n",
            "Epoch 35/50\n",
            "10500/10500 [==============================] - 1s 54us/step - loss: 1.4704e-04 - acc: 1.0000 - val_loss: 1.1250 - val_acc: 0.7604\n",
            "Epoch 36/50\n",
            "10500/10500 [==============================] - 1s 57us/step - loss: 1.3738e-04 - acc: 1.0000 - val_loss: 1.1301 - val_acc: 0.7604\n",
            "Epoch 37/50\n",
            "10500/10500 [==============================] - 1s 56us/step - loss: 1.2825e-04 - acc: 1.0000 - val_loss: 1.1345 - val_acc: 0.7627\n",
            "Epoch 38/50\n",
            "10500/10500 [==============================] - 1s 57us/step - loss: 1.2026e-04 - acc: 1.0000 - val_loss: 1.1384 - val_acc: 0.7627\n",
            "Epoch 39/50\n",
            "10500/10500 [==============================] - 1s 59us/step - loss: 1.1513e-04 - acc: 1.0000 - val_loss: 1.1436 - val_acc: 0.7622\n",
            "Epoch 40/50\n",
            "10500/10500 [==============================] - 1s 60us/step - loss: 1.0618e-04 - acc: 1.0000 - val_loss: 1.1474 - val_acc: 0.7622\n",
            "Epoch 41/50\n",
            "10500/10500 [==============================] - 1s 54us/step - loss: 1.0002e-04 - acc: 1.0000 - val_loss: 1.1529 - val_acc: 0.7638\n",
            "Epoch 42/50\n",
            "10500/10500 [==============================] - 1s 57us/step - loss: 9.4522e-05 - acc: 1.0000 - val_loss: 1.1572 - val_acc: 0.7640\n",
            "Epoch 43/50\n",
            "10500/10500 [==============================] - 1s 54us/step - loss: 8.9546e-05 - acc: 1.0000 - val_loss: 1.1609 - val_acc: 0.7636\n",
            "Epoch 44/50\n",
            "10500/10500 [==============================] - 1s 57us/step - loss: 8.6056e-05 - acc: 1.0000 - val_loss: 1.1647 - val_acc: 0.7629\n",
            "Epoch 45/50\n",
            "10500/10500 [==============================] - 1s 52us/step - loss: 8.0162e-05 - acc: 1.0000 - val_loss: 1.1683 - val_acc: 0.7636\n",
            "Epoch 46/50\n",
            "10500/10500 [==============================] - 1s 56us/step - loss: 7.5888e-05 - acc: 1.0000 - val_loss: 1.1731 - val_acc: 0.7640\n",
            "Epoch 47/50\n",
            "10500/10500 [==============================] - 1s 54us/step - loss: 7.1959e-05 - acc: 1.0000 - val_loss: 1.1767 - val_acc: 0.7636\n",
            "Epoch 48/50\n",
            "10500/10500 [==============================] - 1s 57us/step - loss: 6.8749e-05 - acc: 1.0000 - val_loss: 1.1806 - val_acc: 0.7638\n",
            "Epoch 49/50\n",
            "10500/10500 [==============================] - 1s 54us/step - loss: 6.4914e-05 - acc: 1.0000 - val_loss: 1.1850 - val_acc: 0.7638\n",
            "Epoch 50/50\n",
            "10500/10500 [==============================] - 1s 56us/step - loss: 6.2166e-05 - acc: 1.0000 - val_loss: 1.1880 - val_acc: 0.7629\n",
            "Test loss: 1.1880069120195176\n",
            "Test accuracy: 0.7628888888623979\n"
          ],
          "name": "stdout"
        }
      ]
    },
    {
      "cell_type": "code",
      "metadata": {
        "id": "rJb2IUJ7Z55a",
        "colab_type": "code",
        "outputId": "988e728e-e71e-4031-99b1-4cb81c4bb4c7",
        "colab": {
          "base_uri": "https://localhost:8080/",
          "height": 104
        }
      },
      "source": [
        "output_train=model.predict(x_train)\n",
        "output_test=model.predict(x_test)\n",
        "y_test = y_test.astype('int')\n",
        "y_train = y_train.astype('int')\n",
        "\n",
        "inference_accuracy=inference_via_confidence(output_train, output_test, y_train, y_test)\n",
        "print(\"Maximum Accuracy:\",inference_accuracy)"
      ],
      "execution_count": 8,
      "outputs": [
        {
          "output_type": "stream",
          "text": [
            "model accuracy for training and test- (1.0, 0.7628888888888888)\n",
            "maximum inference accuracy is: 0.7251587301587301\n",
            "precision is: 0.573376509171417\n",
            "recall is: 1.7594285714285713\n",
            "Maximum Accuracy: 0.7251587301587301\n"
          ],
          "name": "stdout"
        }
      ]
    },
    {
      "cell_type": "markdown",
      "metadata": {
        "id": "jZiTm24nMmLM",
        "colab_type": "text"
      },
      "source": [
        "# **Sparsity**"
      ]
    },
    {
      "cell_type": "code",
      "metadata": {
        "id": "WIA83MpSMn4_",
        "colab_type": "code",
        "outputId": "4a6ff47b-79b1-4e06-b226-a762aaa2ac8e",
        "colab": {
          "base_uri": "https://localhost:8080/",
          "height": 521
        }
      },
      "source": [
        "masks = create_sparsity_masks(model,20)#Closest 30% to 0\n",
        "\n",
        "sparse_model = Sequential()\n",
        "sparse_model.add(Dense(1024,kernel_constraint=Sparse(masks[0]), activation='relu', input_shape=(600,)))\n",
        "sparse_model.add(Dense(512,kernel_constraint=Sparse(masks[1]), activation='relu'))\n",
        "sparse_model.add(Dense(256,kernel_constraint=Sparse(masks[2]), activation='relu'))\n",
        "sparse_model.add(Dense(128,kernel_constraint=Sparse(masks[3]), activation='relu'))\n",
        "sparse_model.add(Dense(100,kernel_constraint=Sparse(masks[4]), activation='softmax'))\n",
        "\n",
        "adam = Adam()\n",
        "sparse_model.compile(loss='categorical_crossentropy', optimizer=adam, metrics=['accuracy'])\n",
        "sparse_model.summary()\n",
        "#Get weights from densely trained model\n",
        "sparse_model.set_weights(model.get_weights())\n",
        "\n",
        "\n",
        "# Train Sparse Model\n",
        "sparse_model.fit(x_train,y_train,\n",
        "          batch_size=128,\n",
        "          epochs=50,\n",
        "          verbose=1,\n",
        "          validation_data=(x_test, y_test))\n"
      ],
      "execution_count": 0,
      "outputs": [
        {
          "output_type": "stream",
          "text": [
            "Model: \"sequential_3\"\n",
            "_________________________________________________________________\n",
            "Layer (type)                 Output Shape              Param #   \n",
            "=================================================================\n",
            "dense_11 (Dense)             (None, 1024)              615424    \n",
            "_________________________________________________________________\n",
            "dense_12 (Dense)             (None, 512)               524800    \n",
            "_________________________________________________________________\n",
            "dense_13 (Dense)             (None, 256)               131328    \n",
            "_________________________________________________________________\n",
            "dense_14 (Dense)             (None, 128)               32896     \n",
            "_________________________________________________________________\n",
            "dense_15 (Dense)             (None, 100)               12900     \n",
            "=================================================================\n",
            "Total params: 1,317,348\n",
            "Trainable params: 1,317,348\n",
            "Non-trainable params: 0\n",
            "_________________________________________________________________\n",
            "Train on 10500 samples, validate on 4500 samples\n",
            "Epoch 1/50\n",
            "10500/10500 [==============================] - 1s 119us/step - loss: 0.0859 - acc: 0.9723 - val_loss: 1.2882 - val_acc: 0.7189\n",
            "Epoch 2/50\n",
            "10500/10500 [==============================] - 1s 52us/step - loss: 0.0143 - acc: 0.9965 - val_loss: 1.3445 - val_acc: 0.7109\n",
            "Epoch 3/50\n",
            "10500/10500 [==============================] - 1s 52us/step - loss: 0.0214 - acc: 0.9932 - val_loss: 1.6563 - val_acc: 0.6833\n",
            "Epoch 4/50\n",
            "10500/10500 [==============================] - 1s 56us/step - loss: 0.1115 - acc: 0.9624 - val_loss: 1.6973 - val_acc: 0.6400\n",
            "Epoch 5/50\n",
            "10112/10500 [===========================>..] - ETA: 0s - loss: 0.0712 - acc: 0.9758"
          ],
          "name": "stdout"
        }
      ]
    },
    {
      "cell_type": "code",
      "metadata": {
        "id": "W6NEf4IVNOMm",
        "colab_type": "code",
        "colab": {}
      },
      "source": [
        "output_train=sparse_model.predict(x_train)\n",
        "output_test=sparse_model.predict(x_test)\n",
        "y_test = y_test.astype('int')\n",
        "y_train = y_train.astype('int')\n",
        "\n",
        "inference_accuracy=inference_via_confidence(output_train, output_test, y_train, y_test)\n",
        "print(\"Maximum Accuracy:\",inference_accuracy)"
      ],
      "execution_count": 0,
      "outputs": []
    }
  ]
}