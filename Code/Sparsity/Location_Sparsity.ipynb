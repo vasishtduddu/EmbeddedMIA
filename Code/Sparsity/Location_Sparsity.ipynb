{
  "nbformat": 4,
  "nbformat_minor": 0,
  "metadata": {
    "colab": {
      "name": "Location_Sparsity.ipynb",
      "provenance": [],
      "collapsed_sections": []
    },
    "kernelspec": {
      "name": "python3",
      "display_name": "Python 3"
    },
    "accelerator": "GPU"
  },
  "cells": [
    {
      "cell_type": "code",
      "metadata": {
        "id": "0vwIXk9gmF61",
        "colab_type": "code",
        "outputId": "b04fff7f-bd31-4832-fc67-549797e4f42a",
        "colab": {
          "base_uri": "https://localhost:8080/",
          "height": 81
        }
      },
      "source": [
        "from __future__ import print_function\n",
        "\n",
        "\n",
        "import numpy as np\n",
        "import pandas as pd\n",
        "from keras.layers import Conv2D, MaxPooling2D, Dense, Input, Dropout, Activation, Flatten\n",
        "from keras.models import Sequential\n",
        "from keras.optimizers import Adam\n",
        "import matplotlib.pyplot as plt\n",
        "from skimage.io import imshow\n",
        "from keras import backend as K\n",
        "from keras.constraints import Constraint\n",
        "from keras.datasets import fashion_mnist\n",
        "import keras\n",
        "from keras.models import Sequential\n",
        "from keras.utils import np_utils\n",
        "from keras.preprocessing.image import ImageDataGenerator\n",
        "from keras.layers import Dense, Activation, Flatten, Dropout, BatchNormalization\n",
        "from keras.layers import Conv2D, MaxPooling2D\n",
        "from keras.datasets import cifar10\n",
        "from keras import regularizers\n",
        "from keras.callbacks import LearningRateScheduler\n",
        "import numpy as np\n",
        "import warnings\n",
        "warnings.filterwarnings('ignore')\n",
        "from keras.models import Sequential\n",
        "from keras.layers import Dense, Dropout\n",
        "from keras.optimizers import RMSprop\n"
      ],
      "execution_count": 1,
      "outputs": [
        {
          "output_type": "stream",
          "text": [
            "Using TensorFlow backend.\n"
          ],
          "name": "stderr"
        },
        {
          "output_type": "display_data",
          "data": {
            "text/html": [
              "<p style=\"color: red;\">\n",
              "The default version of TensorFlow in Colab will soon switch to TensorFlow 2.x.<br>\n",
              "We recommend you <a href=\"https://www.tensorflow.org/guide/migrate\" target=\"_blank\">upgrade</a> now \n",
              "or ensure your notebook will continue to use TensorFlow 1.x via the <code>%tensorflow_version 1.x</code> magic:\n",
              "<a href=\"https://colab.research.google.com/notebooks/tensorflow_version.ipynb\" target=\"_blank\">more info</a>.</p>\n"
            ],
            "text/plain": [
              "<IPython.core.display.HTML object>"
            ]
          },
          "metadata": {
            "tags": []
          }
        }
      ]
    },
    {
      "cell_type": "code",
      "metadata": {
        "id": "1wTvIXArZ2-d",
        "colab_type": "code",
        "colab": {}
      },
      "source": [
        "def inference_via_confidence(confidence_mtx1, confidence_mtx2, label_vec1, label_vec2):\n",
        "\n",
        "    #----------------First step: obtain confidence lists for both training dataset and test dataset--------------\n",
        "    confidence1 = []\n",
        "    confidence2 = []\n",
        "    acc1 = 0\n",
        "    acc2 = 0\n",
        "    for num in range(confidence_mtx1.shape[0]):\n",
        "        confidence1.append(confidence_mtx1[num,label_vec1[num]])\n",
        "        if np.argmax(confidence_mtx1[num,:]) == np.argmax(label_vec1[num]):\n",
        "            acc1 += 1\n",
        "\n",
        "    for num in range(confidence_mtx2.shape[0]):\n",
        "        confidence2.append(confidence_mtx2[num,label_vec2[num]])\n",
        "        if np.argmax(confidence_mtx2[num,:]) == np.argmax(label_vec2[num]):\n",
        "            acc2 += 1\n",
        "    confidence1 = np.array(confidence1)\n",
        "    confidence2 = np.array(confidence2)\n",
        "\n",
        "    print('model accuracy for training and test-', (acc1/confidence_mtx1.shape[0], acc2/confidence_mtx2.shape[0]) )\n",
        "\n",
        "\n",
        "    #sort_confidence = np.sort(confidence1)\n",
        "    sort_confidence = np.sort(np.concatenate((confidence1, confidence2)))\n",
        "    max_accuracy = 0.5\n",
        "    best_precision = 0.5\n",
        "    best_recall = 0.5\n",
        "    for num in range(len(sort_confidence)):\n",
        "        delta = sort_confidence[num]\n",
        "        ratio1 = np.sum(confidence1>=delta)/confidence_mtx1.shape[0]\n",
        "        ratio2 = np.sum(confidence2>=delta)/confidence_mtx2.shape[0]\n",
        "        accuracy_now = 0.5*(ratio1+1-ratio2)\n",
        "        if accuracy_now > max_accuracy:\n",
        "            max_accuracy = accuracy_now\n",
        "            best_precision = ratio1/(ratio1+ratio2)\n",
        "            best_recall = ratio1\n",
        "    print('maximum inference accuracy is:', max_accuracy)\n",
        "    print('precision is:', best_precision)\n",
        "    print('recall is:', best_recall)\n",
        "    return max_accuracy\n"
      ],
      "execution_count": 0,
      "outputs": []
    },
    {
      "cell_type": "code",
      "metadata": {
        "id": "gMBl19umBwT9",
        "colab_type": "code",
        "colab": {}
      },
      "source": [
        "class Sparse(Constraint):\n",
        "    '''\n",
        "    We will use one variable: Mask\n",
        "    After we train our model dense model,\n",
        "    we will save the weights and analyze them.\n",
        "    We will create a mask where 1 means the\n",
        "    number is far away enough from 0 and 0\n",
        "    if it is to close to 0. We will multiply\n",
        "    the weights by 0(making them 0) if they\n",
        "    are supposed to be masked.\n",
        "    '''\n",
        "\n",
        "    def __init__(self, mask):\n",
        "        self.mask = K.cast_to_floatx(mask)\n",
        "\n",
        "    def __call__(self,x):\n",
        "        return self.mask * x\n",
        "\n",
        "    def get_config(self):\n",
        "        return {'mask': self.mask}\n",
        "\n",
        "\n",
        "def create_sparsity_masks(model,sparsity):\n",
        "    weights_list = model.get_weights()\n",
        "    masks = []\n",
        "    for weights in weights_list:\n",
        "        #We can ignore biases\n",
        "        if len(weights.shape) > 1:\n",
        "            weights_abs = np.abs(weights)\n",
        "            masks.append((weights_abs>np.percentile(weights_abs,sparsity))*1.)\n",
        "    return masks"
      ],
      "execution_count": 0,
      "outputs": []
    },
    {
      "cell_type": "code",
      "metadata": {
        "id": "Puh4c5iRhrZj",
        "colab_type": "code",
        "outputId": "927ad435-2a86-4d52-e914-5d9df550f4d4",
        "colab": {
          "base_uri": "https://localhost:8080/",
          "height": 124
        }
      },
      "source": [
        "from google.colab import drive\n",
        "drive.mount('/content/gdrive')\n",
        "colab='Colab Notebooks'\n",
        "path = F\"/content/gdrive/My Drive/{colab}/bangkok\" "
      ],
      "execution_count": 4,
      "outputs": [
        {
          "output_type": "stream",
          "text": [
            "Go to this URL in a browser: https://accounts.google.com/o/oauth2/auth?client_id=947318989803-6bn6qk8qdgf4n4g3pfee6491hc0brc4i.apps.googleusercontent.com&redirect_uri=urn%3aietf%3awg%3aoauth%3a2.0%3aoob&response_type=code&scope=email%20https%3a%2f%2fwww.googleapis.com%2fauth%2fdocs.test%20https%3a%2f%2fwww.googleapis.com%2fauth%2fdrive%20https%3a%2f%2fwww.googleapis.com%2fauth%2fdrive.photos.readonly%20https%3a%2f%2fwww.googleapis.com%2fauth%2fpeopleapi.readonly\n",
            "\n",
            "Enter your authorization code:\n",
            "··········\n",
            "Mounted at /content/gdrive\n"
          ],
          "name": "stdout"
        }
      ]
    },
    {
      "cell_type": "code",
      "metadata": {
        "id": "K0rthX4bmLlr",
        "colab_type": "code",
        "outputId": "865d6058-cf20-47af-9139-dea0069218bf",
        "colab": {
          "base_uri": "https://localhost:8080/",
          "height": 52
        }
      },
      "source": [
        "print(\"Loading dataset...\")\n",
        "data_set =np.genfromtxt(path,delimiter=',')\n",
        "print(\"Dataset loaded.\")"
      ],
      "execution_count": 5,
      "outputs": [
        {
          "output_type": "stream",
          "text": [
            "Loading dataset...\n",
            "Dataset loaded.\n"
          ],
          "name": "stdout"
        }
      ]
    },
    {
      "cell_type": "code",
      "metadata": {
        "id": "YoaIAg7lmPSZ",
        "colab_type": "code",
        "colab": {}
      },
      "source": [
        "from sklearn.model_selection import train_test_split\n",
        "from torch.autograd import Variable\n",
        "from sklearn.metrics import accuracy_score, precision_score, recall_score\n",
        "\n",
        "X = data_set[:,1:].astype(np.float64)\n",
        "Y = (data_set[:,0]).astype(np.int32)-1\n",
        "\n",
        "\n",
        "x_train, x_test, y_train, y_test = train_test_split(X, Y, test_size=0.45)\n",
        "\n",
        "y_train = keras.utils.to_categorical(y_train, 30)\n",
        "y_test = keras.utils.to_categorical(y_test, 30)\n"
      ],
      "execution_count": 0,
      "outputs": []
    },
    {
      "cell_type": "code",
      "metadata": {
        "id": "xOOwIyYwXdGo",
        "colab_type": "code",
        "outputId": "4fb21126-b261-4b18-e59e-382e364551ed",
        "colab": {
          "base_uri": "https://localhost:8080/",
          "height": 489
        }
      },
      "source": [
        "model = Sequential()\n",
        "model.add(Dense(512, activation='relu', input_shape=(446,)))\n",
        "model.add(Dense(256, activation='relu'))\n",
        "model.add(Dense(128, activation='relu'))\n",
        "model.add(Dense(30, activation='softmax'))\n",
        "\n",
        "model.summary()\n",
        "\n",
        "model.compile(loss='categorical_crossentropy',\n",
        "              optimizer=RMSprop(),\n",
        "              metrics=['accuracy'])"
      ],
      "execution_count": 7,
      "outputs": [
        {
          "output_type": "stream",
          "text": [
            "WARNING:tensorflow:From /usr/local/lib/python3.6/dist-packages/keras/backend/tensorflow_backend.py:66: The name tf.get_default_graph is deprecated. Please use tf.compat.v1.get_default_graph instead.\n",
            "\n",
            "WARNING:tensorflow:From /usr/local/lib/python3.6/dist-packages/keras/backend/tensorflow_backend.py:541: The name tf.placeholder is deprecated. Please use tf.compat.v1.placeholder instead.\n",
            "\n",
            "WARNING:tensorflow:From /usr/local/lib/python3.6/dist-packages/keras/backend/tensorflow_backend.py:4432: The name tf.random_uniform is deprecated. Please use tf.random.uniform instead.\n",
            "\n",
            "Model: \"sequential_1\"\n",
            "_________________________________________________________________\n",
            "Layer (type)                 Output Shape              Param #   \n",
            "=================================================================\n",
            "dense_1 (Dense)              (None, 512)               228864    \n",
            "_________________________________________________________________\n",
            "dense_2 (Dense)              (None, 256)               131328    \n",
            "_________________________________________________________________\n",
            "dense_3 (Dense)              (None, 128)               32896     \n",
            "_________________________________________________________________\n",
            "dense_4 (Dense)              (None, 30)                3870      \n",
            "=================================================================\n",
            "Total params: 396,958\n",
            "Trainable params: 396,958\n",
            "Non-trainable params: 0\n",
            "_________________________________________________________________\n",
            "WARNING:tensorflow:From /usr/local/lib/python3.6/dist-packages/keras/optimizers.py:793: The name tf.train.Optimizer is deprecated. Please use tf.compat.v1.train.Optimizer instead.\n",
            "\n",
            "WARNING:tensorflow:From /usr/local/lib/python3.6/dist-packages/keras/backend/tensorflow_backend.py:3576: The name tf.log is deprecated. Please use tf.math.log instead.\n",
            "\n"
          ],
          "name": "stdout"
        }
      ]
    },
    {
      "cell_type": "code",
      "metadata": {
        "id": "YkAoGG0kZWQs",
        "colab_type": "code",
        "outputId": "83d9d8b5-c940-42ed-e430-42d4b5254257",
        "colab": {
          "base_uri": "https://localhost:8080/",
          "height": 1000
        }
      },
      "source": [
        "history = model.fit(x_train, y_train,\n",
        "                    batch_size=64,\n",
        "                    epochs=50,\n",
        "                    verbose=1,\n",
        "                    validation_data=(x_test, y_test))\n",
        "score = model.evaluate(x_test, y_test, verbose=0)\n",
        "print('Test loss:', score[0])\n",
        "print('Test accuracy:', score[1])"
      ],
      "execution_count": 8,
      "outputs": [
        {
          "output_type": "stream",
          "text": [
            "WARNING:tensorflow:From /usr/local/lib/python3.6/dist-packages/tensorflow_core/python/ops/math_grad.py:1424: where (from tensorflow.python.ops.array_ops) is deprecated and will be removed in a future version.\n",
            "Instructions for updating:\n",
            "Use tf.where in 2.0, which has the same broadcast rule as np.where\n",
            "WARNING:tensorflow:From /usr/local/lib/python3.6/dist-packages/keras/backend/tensorflow_backend.py:1033: The name tf.assign_add is deprecated. Please use tf.compat.v1.assign_add instead.\n",
            "\n",
            "WARNING:tensorflow:From /usr/local/lib/python3.6/dist-packages/keras/backend/tensorflow_backend.py:1020: The name tf.assign is deprecated. Please use tf.compat.v1.assign instead.\n",
            "\n",
            "WARNING:tensorflow:From /usr/local/lib/python3.6/dist-packages/keras/backend/tensorflow_backend.py:3005: The name tf.Session is deprecated. Please use tf.compat.v1.Session instead.\n",
            "\n",
            "Train on 2755 samples, validate on 2255 samples\n",
            "Epoch 1/50\n",
            "WARNING:tensorflow:From /usr/local/lib/python3.6/dist-packages/keras/backend/tensorflow_backend.py:190: The name tf.get_default_session is deprecated. Please use tf.compat.v1.get_default_session instead.\n",
            "\n",
            "WARNING:tensorflow:From /usr/local/lib/python3.6/dist-packages/keras/backend/tensorflow_backend.py:197: The name tf.ConfigProto is deprecated. Please use tf.compat.v1.ConfigProto instead.\n",
            "\n",
            "WARNING:tensorflow:From /usr/local/lib/python3.6/dist-packages/keras/backend/tensorflow_backend.py:207: The name tf.global_variables is deprecated. Please use tf.compat.v1.global_variables instead.\n",
            "\n",
            "WARNING:tensorflow:From /usr/local/lib/python3.6/dist-packages/keras/backend/tensorflow_backend.py:216: The name tf.is_variable_initialized is deprecated. Please use tf.compat.v1.is_variable_initialized instead.\n",
            "\n",
            "WARNING:tensorflow:From /usr/local/lib/python3.6/dist-packages/keras/backend/tensorflow_backend.py:223: The name tf.variables_initializer is deprecated. Please use tf.compat.v1.variables_initializer instead.\n",
            "\n",
            "2755/2755 [==============================] - 20s 7ms/step - loss: 2.5686 - acc: 0.2766 - val_loss: 2.5679 - val_acc: 0.1871\n",
            "Epoch 2/50\n",
            "2755/2755 [==============================] - 0s 71us/step - loss: 1.2747 - acc: 0.6312 - val_loss: 2.5400 - val_acc: 0.3078\n",
            "Epoch 3/50\n",
            "2755/2755 [==============================] - 0s 80us/step - loss: 0.7890 - acc: 0.7746 - val_loss: 1.8929 - val_acc: 0.4882\n",
            "Epoch 4/50\n",
            "2755/2755 [==============================] - 0s 71us/step - loss: 0.5143 - acc: 0.8497 - val_loss: 1.5239 - val_acc: 0.5614\n",
            "Epoch 5/50\n",
            "2755/2755 [==============================] - 0s 74us/step - loss: 0.3212 - acc: 0.9169 - val_loss: 1.3814 - val_acc: 0.5867\n",
            "Epoch 6/50\n",
            "2755/2755 [==============================] - 0s 72us/step - loss: 0.2180 - acc: 0.9474 - val_loss: 2.0671 - val_acc: 0.5366\n",
            "Epoch 7/50\n",
            "2755/2755 [==============================] - 0s 90us/step - loss: 0.1428 - acc: 0.9710 - val_loss: 2.3246 - val_acc: 0.4936\n",
            "Epoch 8/50\n",
            "2755/2755 [==============================] - 0s 106us/step - loss: 0.0991 - acc: 0.9797 - val_loss: 1.2993 - val_acc: 0.6364\n",
            "Epoch 9/50\n",
            "2755/2755 [==============================] - 0s 110us/step - loss: 0.0957 - acc: 0.9721 - val_loss: 1.4176 - val_acc: 0.6244\n",
            "Epoch 10/50\n",
            "2755/2755 [==============================] - 0s 74us/step - loss: 0.0437 - acc: 0.9902 - val_loss: 1.2395 - val_acc: 0.6643\n",
            "Epoch 11/50\n",
            "2755/2755 [==============================] - 0s 77us/step - loss: 0.0301 - acc: 0.9931 - val_loss: 1.4941 - val_acc: 0.6430\n",
            "Epoch 12/50\n",
            "2755/2755 [==============================] - 0s 74us/step - loss: 0.0358 - acc: 0.9902 - val_loss: 1.4422 - val_acc: 0.6537\n",
            "Epoch 13/50\n",
            "2755/2755 [==============================] - 0s 89us/step - loss: 0.0325 - acc: 0.9898 - val_loss: 1.4316 - val_acc: 0.6599\n",
            "Epoch 14/50\n",
            "2755/2755 [==============================] - 0s 80us/step - loss: 0.0123 - acc: 0.9978 - val_loss: 1.8690 - val_acc: 0.6129\n",
            "Epoch 15/50\n",
            "2755/2755 [==============================] - 0s 67us/step - loss: 0.0201 - acc: 0.9967 - val_loss: 1.5012 - val_acc: 0.6528\n",
            "Epoch 16/50\n",
            "2755/2755 [==============================] - 0s 74us/step - loss: 0.0012 - acc: 1.0000 - val_loss: 1.9396 - val_acc: 0.6266\n",
            "Epoch 17/50\n",
            "2755/2755 [==============================] - 0s 78us/step - loss: 0.0228 - acc: 0.9938 - val_loss: 1.6016 - val_acc: 0.6501\n",
            "Epoch 18/50\n",
            "2755/2755 [==============================] - 0s 68us/step - loss: 0.0333 - acc: 0.9931 - val_loss: 1.8243 - val_acc: 0.6244\n",
            "Epoch 19/50\n",
            "2755/2755 [==============================] - 0s 69us/step - loss: 7.0281e-04 - acc: 1.0000 - val_loss: 1.6731 - val_acc: 0.6528\n",
            "Epoch 20/50\n",
            "2755/2755 [==============================] - 0s 74us/step - loss: 2.2368e-04 - acc: 1.0000 - val_loss: 1.8832 - val_acc: 0.6479\n",
            "Epoch 21/50\n",
            "2755/2755 [==============================] - 0s 73us/step - loss: 0.0114 - acc: 0.9967 - val_loss: 1.8286 - val_acc: 0.6576\n",
            "Epoch 22/50\n",
            "2755/2755 [==============================] - 0s 87us/step - loss: 9.1425e-05 - acc: 1.0000 - val_loss: 2.0947 - val_acc: 0.6501\n",
            "Epoch 23/50\n",
            "2755/2755 [==============================] - 0s 85us/step - loss: 0.0254 - acc: 0.9949 - val_loss: 1.8955 - val_acc: 0.6435\n",
            "Epoch 24/50\n",
            "2755/2755 [==============================] - 0s 74us/step - loss: 9.8261e-05 - acc: 1.0000 - val_loss: 1.9443 - val_acc: 0.6457\n",
            "Epoch 25/50\n",
            "2755/2755 [==============================] - 0s 84us/step - loss: 0.0201 - acc: 0.9946 - val_loss: 2.1399 - val_acc: 0.6359\n",
            "Epoch 26/50\n",
            "2755/2755 [==============================] - 0s 70us/step - loss: 1.1034e-04 - acc: 1.0000 - val_loss: 2.0440 - val_acc: 0.6461\n",
            "Epoch 27/50\n",
            "2755/2755 [==============================] - 0s 89us/step - loss: 3.3166e-05 - acc: 1.0000 - val_loss: 2.1944 - val_acc: 0.6377\n",
            "Epoch 28/50\n",
            "2755/2755 [==============================] - 0s 72us/step - loss: 0.0312 - acc: 0.9942 - val_loss: 2.0363 - val_acc: 0.6426\n",
            "Epoch 29/50\n",
            "2755/2755 [==============================] - 0s 73us/step - loss: 3.7102e-05 - acc: 1.0000 - val_loss: 2.0784 - val_acc: 0.6448\n",
            "Epoch 30/50\n",
            "2755/2755 [==============================] - 0s 77us/step - loss: 1.6359e-05 - acc: 1.0000 - val_loss: 2.1948 - val_acc: 0.6475\n",
            "Epoch 31/50\n",
            "2755/2755 [==============================] - 0s 78us/step - loss: 0.0122 - acc: 0.9967 - val_loss: 2.4176 - val_acc: 0.6186\n",
            "Epoch 32/50\n",
            "2755/2755 [==============================] - 0s 98us/step - loss: 4.1409e-05 - acc: 1.0000 - val_loss: 2.2627 - val_acc: 0.6355\n",
            "Epoch 33/50\n",
            "2755/2755 [==============================] - 0s 100us/step - loss: 7.7604e-06 - acc: 1.0000 - val_loss: 2.3268 - val_acc: 0.6328\n",
            "Epoch 34/50\n",
            "2755/2755 [==============================] - 0s 94us/step - loss: 0.0283 - acc: 0.9946 - val_loss: 2.4931 - val_acc: 0.6319\n",
            "Epoch 35/50\n",
            "2755/2755 [==============================] - 0s 73us/step - loss: 1.7390e-05 - acc: 1.0000 - val_loss: 2.4280 - val_acc: 0.6373\n",
            "Epoch 36/50\n",
            "2755/2755 [==============================] - 0s 73us/step - loss: 5.6904e-06 - acc: 1.0000 - val_loss: 2.4201 - val_acc: 0.6359\n",
            "Epoch 37/50\n",
            "2755/2755 [==============================] - 0s 76us/step - loss: 2.6202e-06 - acc: 1.0000 - val_loss: 2.4624 - val_acc: 0.6377\n",
            "Epoch 38/50\n",
            "2755/2755 [==============================] - 0s 70us/step - loss: 0.0334 - acc: 0.9938 - val_loss: 2.6698 - val_acc: 0.6266\n",
            "Epoch 39/50\n",
            "2755/2755 [==============================] - 0s 80us/step - loss: 3.6910e-05 - acc: 1.0000 - val_loss: 2.5256 - val_acc: 0.6359\n",
            "Epoch 40/50\n",
            "2755/2755 [==============================] - 0s 71us/step - loss: 3.5411e-06 - acc: 1.0000 - val_loss: 2.5181 - val_acc: 0.6386\n",
            "Epoch 41/50\n",
            "2755/2755 [==============================] - 0s 76us/step - loss: 1.5800e-06 - acc: 1.0000 - val_loss: 2.5264 - val_acc: 0.6350\n",
            "Epoch 42/50\n",
            "2755/2755 [==============================] - 0s 69us/step - loss: 7.4200e-07 - acc: 1.0000 - val_loss: 2.6559 - val_acc: 0.6324\n",
            "Epoch 43/50\n",
            "2755/2755 [==============================] - 0s 69us/step - loss: 0.0260 - acc: 0.9938 - val_loss: 2.6727 - val_acc: 0.6217\n",
            "Epoch 44/50\n",
            "2755/2755 [==============================] - 0s 80us/step - loss: 7.2497e-06 - acc: 1.0000 - val_loss: 2.6086 - val_acc: 0.6341\n",
            "Epoch 45/50\n",
            "2755/2755 [==============================] - 0s 75us/step - loss: 2.3254e-06 - acc: 1.0000 - val_loss: 2.5607 - val_acc: 0.6364\n",
            "Epoch 46/50\n",
            "2755/2755 [==============================] - 0s 72us/step - loss: 8.6545e-07 - acc: 1.0000 - val_loss: 2.5699 - val_acc: 0.6341\n",
            "Epoch 47/50\n",
            "2755/2755 [==============================] - 0s 77us/step - loss: 3.9999e-07 - acc: 1.0000 - val_loss: 2.6942 - val_acc: 0.6373\n",
            "Epoch 48/50\n",
            "2755/2755 [==============================] - 0s 75us/step - loss: 0.0260 - acc: 0.9949 - val_loss: 2.7557 - val_acc: 0.6257\n",
            "Epoch 49/50\n",
            "2755/2755 [==============================] - 0s 83us/step - loss: 4.5103e-06 - acc: 1.0000 - val_loss: 2.7020 - val_acc: 0.6346\n",
            "Epoch 50/50\n",
            "2755/2755 [==============================] - 0s 76us/step - loss: 1.0285e-06 - acc: 1.0000 - val_loss: 2.6932 - val_acc: 0.6350\n",
            "Test loss: 2.69319442011036\n",
            "Test accuracy: 0.6350332595556644\n"
          ],
          "name": "stdout"
        }
      ]
    },
    {
      "cell_type": "code",
      "metadata": {
        "id": "rJb2IUJ7Z55a",
        "colab_type": "code",
        "outputId": "b2a7ae2e-9180-4fa8-f90d-1110485e9cfe",
        "colab": {
          "base_uri": "https://localhost:8080/",
          "height": 104
        }
      },
      "source": [
        "output_train=model.predict(x_train)\n",
        "output_test=model.predict(x_test)\n",
        "y_test = y_test.astype('int')\n",
        "y_train = y_train.astype('int')\n",
        "\n",
        "inference_accuracy=inference_via_confidence(output_train, output_test, y_train, y_test)\n",
        "print(\"Maximum Accuracy:\",inference_accuracy)"
      ],
      "execution_count": 9,
      "outputs": [
        {
          "output_type": "stream",
          "text": [
            "model accuracy for training and test- (1.0, 0.6350332594235033)\n",
            "maximum inference accuracy is: 0.7832507716266734\n",
            "precision is: 0.6157233455093559\n",
            "recall is: 1.5070780399274046\n",
            "Maximum Accuracy: 0.7832507716266734\n"
          ],
          "name": "stdout"
        }
      ]
    },
    {
      "cell_type": "markdown",
      "metadata": {
        "id": "NAcBsgdQB0v7",
        "colab_type": "text"
      },
      "source": [
        "# **Sparse**"
      ]
    },
    {
      "cell_type": "code",
      "metadata": {
        "id": "NSz-_ki-B4lN",
        "colab_type": "code",
        "outputId": "2cc45342-4763-47cf-8409-e4d191626c4a",
        "colab": {
          "base_uri": "https://localhost:8080/",
          "height": 1000
        }
      },
      "source": [
        "masks = create_sparsity_masks(model,90)#Closest 30% to 0\n",
        "\n",
        "sparse_model = Sequential()\n",
        "sparse_model.add(Dense(512,kernel_constraint=Sparse(masks[0]), activation='relu', input_shape=(446,)))\n",
        "sparse_model.add(Dense(256,kernel_constraint=Sparse(masks[1]), activation='relu'))\n",
        "sparse_model.add(Dense(128,kernel_constraint=Sparse(masks[2]), activation='relu'))\n",
        "sparse_model.add(Dense(30,kernel_constraint=Sparse(masks[3]), activation='softmax'))\n",
        "\n",
        "sparse_model.summary()\n",
        "\n",
        "adam = Adam()\n",
        "sparse_model.compile(loss='categorical_crossentropy', optimizer=adam, metrics=['accuracy'])\n",
        "sparse_model.summary()\n",
        "#Get weights from densely trained model\n",
        "sparse_model.set_weights(model.get_weights())\n",
        "\n",
        "\n",
        "# Train Sparse Model\n",
        "sparse_model.fit(x_train,y_train,\n",
        "          batch_size=32,\n",
        "          epochs=50,\n",
        "          verbose=1,\n",
        "          validation_data=(x_test, y_test))\n",
        "\n"
      ],
      "execution_count": 28,
      "outputs": [
        {
          "output_type": "stream",
          "text": [
            "Model: \"sequential_11\"\n",
            "_________________________________________________________________\n",
            "Layer (type)                 Output Shape              Param #   \n",
            "=================================================================\n",
            "dense_41 (Dense)             (None, 512)               228864    \n",
            "_________________________________________________________________\n",
            "dense_42 (Dense)             (None, 256)               131328    \n",
            "_________________________________________________________________\n",
            "dense_43 (Dense)             (None, 128)               32896     \n",
            "_________________________________________________________________\n",
            "dense_44 (Dense)             (None, 30)                3870      \n",
            "=================================================================\n",
            "Total params: 396,958\n",
            "Trainable params: 396,958\n",
            "Non-trainable params: 0\n",
            "_________________________________________________________________\n",
            "Model: \"sequential_11\"\n",
            "_________________________________________________________________\n",
            "Layer (type)                 Output Shape              Param #   \n",
            "=================================================================\n",
            "dense_41 (Dense)             (None, 512)               228864    \n",
            "_________________________________________________________________\n",
            "dense_42 (Dense)             (None, 256)               131328    \n",
            "_________________________________________________________________\n",
            "dense_43 (Dense)             (None, 128)               32896     \n",
            "_________________________________________________________________\n",
            "dense_44 (Dense)             (None, 30)                3870      \n",
            "=================================================================\n",
            "Total params: 396,958\n",
            "Trainable params: 396,958\n",
            "Non-trainable params: 0\n",
            "_________________________________________________________________\n",
            "Train on 2755 samples, validate on 2255 samples\n",
            "Epoch 1/50\n",
            "2755/2755 [==============================] - 1s 482us/step - loss: 2.1762 - acc: 0.3757 - val_loss: 1.9776 - val_acc: 0.4293\n",
            "Epoch 2/50\n",
            "2755/2755 [==============================] - 0s 177us/step - loss: 1.2753 - acc: 0.7347 - val_loss: 1.4620 - val_acc: 0.5508\n",
            "Epoch 3/50\n",
            "2755/2755 [==============================] - 0s 175us/step - loss: 0.7714 - acc: 0.8454 - val_loss: 1.2868 - val_acc: 0.5845\n",
            "Epoch 4/50\n",
            "2755/2755 [==============================] - 0s 168us/step - loss: 0.5238 - acc: 0.9020 - val_loss: 1.2031 - val_acc: 0.6035\n",
            "Epoch 5/50\n",
            "2755/2755 [==============================] - 0s 160us/step - loss: 0.3725 - acc: 0.9390 - val_loss: 1.1757 - val_acc: 0.6115\n",
            "Epoch 6/50\n",
            "2755/2755 [==============================] - 0s 174us/step - loss: 0.2749 - acc: 0.9641 - val_loss: 1.1611 - val_acc: 0.6239\n",
            "Epoch 7/50\n",
            "2755/2755 [==============================] - 0s 165us/step - loss: 0.2038 - acc: 0.9811 - val_loss: 1.1832 - val_acc: 0.6244\n",
            "Epoch 8/50\n",
            "2755/2755 [==============================] - 0s 163us/step - loss: 0.1543 - acc: 0.9902 - val_loss: 1.1957 - val_acc: 0.6319\n",
            "Epoch 9/50\n",
            "2755/2755 [==============================] - 0s 169us/step - loss: 0.1188 - acc: 0.9949 - val_loss: 1.2319 - val_acc: 0.6297\n",
            "Epoch 10/50\n",
            "2755/2755 [==============================] - 0s 165us/step - loss: 0.0929 - acc: 0.9978 - val_loss: 1.2488 - val_acc: 0.6271\n",
            "Epoch 11/50\n",
            "2755/2755 [==============================] - 0s 166us/step - loss: 0.0744 - acc: 0.9989 - val_loss: 1.2743 - val_acc: 0.6239\n",
            "Epoch 12/50\n",
            "2755/2755 [==============================] - 0s 167us/step - loss: 0.0575 - acc: 0.9996 - val_loss: 1.2984 - val_acc: 0.6346\n",
            "Epoch 13/50\n",
            "2755/2755 [==============================] - 0s 163us/step - loss: 0.0458 - acc: 0.9996 - val_loss: 1.3177 - val_acc: 0.6319\n",
            "Epoch 14/50\n",
            "2755/2755 [==============================] - 0s 162us/step - loss: 0.0372 - acc: 1.0000 - val_loss: 1.3430 - val_acc: 0.6284\n",
            "Epoch 15/50\n",
            "2755/2755 [==============================] - 0s 163us/step - loss: 0.0312 - acc: 1.0000 - val_loss: 1.3669 - val_acc: 0.6315\n",
            "Epoch 16/50\n",
            "2755/2755 [==============================] - 0s 169us/step - loss: 0.0258 - acc: 1.0000 - val_loss: 1.3865 - val_acc: 0.6306\n",
            "Epoch 17/50\n",
            "2755/2755 [==============================] - 0s 170us/step - loss: 0.0219 - acc: 1.0000 - val_loss: 1.4068 - val_acc: 0.6310\n",
            "Epoch 18/50\n",
            "2755/2755 [==============================] - 0s 172us/step - loss: 0.0189 - acc: 1.0000 - val_loss: 1.4354 - val_acc: 0.6364\n",
            "Epoch 19/50\n",
            "2755/2755 [==============================] - 0s 167us/step - loss: 0.0162 - acc: 1.0000 - val_loss: 1.4528 - val_acc: 0.6306\n",
            "Epoch 20/50\n",
            "2755/2755 [==============================] - 0s 161us/step - loss: 0.0141 - acc: 1.0000 - val_loss: 1.4728 - val_acc: 0.6337\n",
            "Epoch 21/50\n",
            "2755/2755 [==============================] - 0s 165us/step - loss: 0.0122 - acc: 1.0000 - val_loss: 1.4882 - val_acc: 0.6319\n",
            "Epoch 22/50\n",
            "2755/2755 [==============================] - 0s 171us/step - loss: 0.0108 - acc: 1.0000 - val_loss: 1.5163 - val_acc: 0.6306\n",
            "Epoch 23/50\n",
            "2755/2755 [==============================] - 0s 156us/step - loss: 0.0095 - acc: 1.0000 - val_loss: 1.5287 - val_acc: 0.6364\n",
            "Epoch 24/50\n",
            "2755/2755 [==============================] - 0s 165us/step - loss: 0.0085 - acc: 1.0000 - val_loss: 1.5523 - val_acc: 0.6324\n",
            "Epoch 25/50\n",
            "2755/2755 [==============================] - 0s 163us/step - loss: 0.0075 - acc: 1.0000 - val_loss: 1.5678 - val_acc: 0.6324\n",
            "Epoch 26/50\n",
            "2755/2755 [==============================] - 0s 165us/step - loss: 0.0068 - acc: 1.0000 - val_loss: 1.5872 - val_acc: 0.6324\n",
            "Epoch 27/50\n",
            "2755/2755 [==============================] - 0s 172us/step - loss: 0.0061 - acc: 1.0000 - val_loss: 1.6026 - val_acc: 0.6324\n",
            "Epoch 28/50\n",
            "2755/2755 [==============================] - 0s 171us/step - loss: 0.0055 - acc: 1.0000 - val_loss: 1.6159 - val_acc: 0.6350\n",
            "Epoch 29/50\n",
            "2755/2755 [==============================] - 0s 167us/step - loss: 0.0050 - acc: 1.0000 - val_loss: 1.6284 - val_acc: 0.6346\n",
            "Epoch 30/50\n",
            "2755/2755 [==============================] - 0s 157us/step - loss: 0.0046 - acc: 1.0000 - val_loss: 1.6489 - val_acc: 0.6377\n",
            "Epoch 31/50\n",
            "2755/2755 [==============================] - 0s 178us/step - loss: 0.0041 - acc: 1.0000 - val_loss: 1.6661 - val_acc: 0.6350\n",
            "Epoch 32/50\n",
            "2755/2755 [==============================] - 0s 180us/step - loss: 0.0038 - acc: 1.0000 - val_loss: 1.6698 - val_acc: 0.6333\n",
            "Epoch 33/50\n",
            "2755/2755 [==============================] - 1s 239us/step - loss: 0.0034 - acc: 1.0000 - val_loss: 1.6954 - val_acc: 0.6355\n",
            "Epoch 34/50\n",
            "2755/2755 [==============================] - 0s 165us/step - loss: 0.0031 - acc: 1.0000 - val_loss: 1.7018 - val_acc: 0.6355\n",
            "Epoch 35/50\n",
            "2755/2755 [==============================] - 0s 157us/step - loss: 0.0029 - acc: 1.0000 - val_loss: 1.7179 - val_acc: 0.6350\n",
            "Epoch 36/50\n",
            "2755/2755 [==============================] - 0s 167us/step - loss: 0.0027 - acc: 1.0000 - val_loss: 1.7360 - val_acc: 0.6359\n",
            "Epoch 37/50\n",
            "2755/2755 [==============================] - 0s 161us/step - loss: 0.0025 - acc: 1.0000 - val_loss: 1.7462 - val_acc: 0.6341\n",
            "Epoch 38/50\n",
            "2755/2755 [==============================] - 0s 167us/step - loss: 0.0023 - acc: 1.0000 - val_loss: 1.7631 - val_acc: 0.6328\n",
            "Epoch 39/50\n",
            "2755/2755 [==============================] - 1s 183us/step - loss: 0.0021 - acc: 1.0000 - val_loss: 1.7736 - val_acc: 0.6368\n",
            "Epoch 40/50\n",
            "2755/2755 [==============================] - 1s 188us/step - loss: 0.0019 - acc: 1.0000 - val_loss: 1.7860 - val_acc: 0.6350\n",
            "Epoch 41/50\n",
            "2755/2755 [==============================] - 0s 169us/step - loss: 0.0018 - acc: 1.0000 - val_loss: 1.7991 - val_acc: 0.6368\n",
            "Epoch 42/50\n",
            "2755/2755 [==============================] - 0s 155us/step - loss: 0.0017 - acc: 1.0000 - val_loss: 1.8084 - val_acc: 0.6364\n",
            "Epoch 43/50\n",
            "2755/2755 [==============================] - 0s 169us/step - loss: 0.0015 - acc: 1.0000 - val_loss: 1.8226 - val_acc: 0.6368\n",
            "Epoch 44/50\n",
            "2755/2755 [==============================] - 0s 166us/step - loss: 0.0014 - acc: 1.0000 - val_loss: 1.8362 - val_acc: 0.6381\n",
            "Epoch 45/50\n",
            "2755/2755 [==============================] - 0s 172us/step - loss: 0.0013 - acc: 1.0000 - val_loss: 1.8455 - val_acc: 0.6368\n",
            "Epoch 46/50\n",
            "2755/2755 [==============================] - 0s 166us/step - loss: 0.0012 - acc: 1.0000 - val_loss: 1.8648 - val_acc: 0.6350\n",
            "Epoch 47/50\n",
            "2755/2755 [==============================] - 0s 176us/step - loss: 0.0012 - acc: 1.0000 - val_loss: 1.8699 - val_acc: 0.6386\n",
            "Epoch 48/50\n",
            "2755/2755 [==============================] - 0s 170us/step - loss: 0.0011 - acc: 1.0000 - val_loss: 1.8783 - val_acc: 0.6390\n",
            "Epoch 49/50\n",
            "2755/2755 [==============================] - 0s 162us/step - loss: 0.0010 - acc: 1.0000 - val_loss: 1.8958 - val_acc: 0.6377\n",
            "Epoch 50/50\n",
            "2755/2755 [==============================] - 0s 161us/step - loss: 9.4489e-04 - acc: 1.0000 - val_loss: 1.9081 - val_acc: 0.6350\n"
          ],
          "name": "stdout"
        },
        {
          "output_type": "execute_result",
          "data": {
            "text/plain": [
              "<keras.callbacks.History at 0x7fbbe62a0f28>"
            ]
          },
          "metadata": {
            "tags": []
          },
          "execution_count": 28
        }
      ]
    },
    {
      "cell_type": "code",
      "metadata": {
        "id": "SBsaZeltCm41",
        "colab_type": "code",
        "outputId": "5af4e9ec-8403-4812-88ff-bbf20d9662d5",
        "colab": {
          "base_uri": "https://localhost:8080/",
          "height": 104
        }
      },
      "source": [
        "output_train=sparse_model.predict(x_train)\n",
        "output_test=sparse_model.predict(x_test)\n",
        "y_test = y_test.astype('int')\n",
        "y_train = y_train.astype('int')\n",
        "\n",
        "inference_accuracy=inference_via_confidence(output_train, output_test, y_train, y_test)\n",
        "print(\"Maximum Accuracy:\",inference_accuracy)"
      ],
      "execution_count": 29,
      "outputs": [
        {
          "output_type": "stream",
          "text": [
            "model accuracy for training and test- (1.0, 0.6350332594235033)\n",
            "maximum inference accuracy is: 0.7952394557768381\n",
            "precision is: 0.5992267682206228\n",
            "recall is: 1.782940108892922\n",
            "Maximum Accuracy: 0.7952394557768381\n"
          ],
          "name": "stdout"
        }
      ]
    }
  ]
}